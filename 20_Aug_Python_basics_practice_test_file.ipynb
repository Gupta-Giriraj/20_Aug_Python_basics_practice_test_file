{
 "cells": [
  {
   "cell_type": "markdown",
   "id": "53ae6f7e-ac82-4205-a0b2-a83bb8182943",
   "metadata": {},
   "source": [
    "1. Write a program to reverse a string."
   ]
  },
  {
   "cell_type": "markdown",
   "id": "7569a03a-0f08-49b3-81c5-f41018b1503b",
   "metadata": {},
   "source": [
    "s='giriraj'"
   ]
  },
  {
   "cell_type": "code",
   "execution_count": 3,
   "id": "badecbb5-8cc7-418f-8a5c-64e0a4c57a35",
   "metadata": {},
   "outputs": [
    {
     "data": {
      "text/plain": [
       "'jaririg'"
      ]
     },
     "execution_count": 3,
     "metadata": {},
     "output_type": "execute_result"
    }
   ],
   "source": [
    "s[::-1]"
   ]
  },
  {
   "cell_type": "markdown",
   "id": "e4fcb539-af4d-404c-bf0d-9cfda321a447",
   "metadata": {},
   "source": [
    "2. Check if a string is a palindrome."
   ]
  },
  {
   "cell_type": "code",
   "execution_count": 4,
   "id": "05462bdf-63fe-4b5c-8f5e-13dd13dc2af2",
   "metadata": {},
   "outputs": [],
   "source": [
    "s='malayalam'"
   ]
  },
  {
   "cell_type": "code",
   "execution_count": 5,
   "id": "2930e55d-0b75-43bd-8dff-a97210223ccb",
   "metadata": {},
   "outputs": [
    {
     "data": {
      "text/plain": [
       "'malayalam'"
      ]
     },
     "execution_count": 5,
     "metadata": {},
     "output_type": "execute_result"
    }
   ],
   "source": [
    "s[::-1]"
   ]
  },
  {
   "cell_type": "markdown",
   "id": "6bcc373c-5b3f-4181-b878-8675ae73ff2d",
   "metadata": {},
   "source": [
    "3. Convert a string to uppercase."
   ]
  },
  {
   "cell_type": "code",
   "execution_count": 6,
   "id": "940c4f59-b270-491c-8281-a3dd77404bc7",
   "metadata": {},
   "outputs": [
    {
     "data": {
      "text/plain": [
       "'MALAYALAM'"
      ]
     },
     "execution_count": 6,
     "metadata": {},
     "output_type": "execute_result"
    }
   ],
   "source": [
    "s.upper()"
   ]
  },
  {
   "cell_type": "markdown",
   "id": "f5d943d3-8c19-413b-8b57-65e5d17d0a5b",
   "metadata": {},
   "source": [
    "4. Convert a string to lowercase."
   ]
  },
  {
   "cell_type": "code",
   "execution_count": 7,
   "id": "803869c2-3feb-4a45-b517-be0297d31e6a",
   "metadata": {},
   "outputs": [
    {
     "data": {
      "text/plain": [
       "'malayalam'"
      ]
     },
     "execution_count": 7,
     "metadata": {},
     "output_type": "execute_result"
    }
   ],
   "source": [
    "s.lower()"
   ]
  },
  {
   "cell_type": "markdown",
   "id": "5d679d1f-4055-48dc-999b-b2b2b9072064",
   "metadata": {},
   "source": [
    "5. Count the number of vowels in a string."
   ]
  },
  {
   "cell_type": "code",
   "execution_count": 39,
   "id": "937478f3-e733-4f73-bfcc-53a8c74ac97a",
   "metadata": {},
   "outputs": [
    {
     "data": {
      "text/plain": [
       "'umbrella'"
      ]
     },
     "execution_count": 39,
     "metadata": {},
     "output_type": "execute_result"
    }
   ],
   "source": [
    "s='umbrella'\n",
    "s.lower()"
   ]
  },
  {
   "cell_type": "code",
   "execution_count": 30,
   "id": "88d0e8f5-ea02-4cec-a8fd-66fd269ec249",
   "metadata": {},
   "outputs": [],
   "source": [
    "vowels=set('aeiou')"
   ]
  },
  {
   "cell_type": "code",
   "execution_count": 40,
   "id": "5783ee74-341f-4ec6-a8fb-d02930dcce05",
   "metadata": {},
   "outputs": [
    {
     "name": "stdout",
     "output_type": "stream",
     "text": [
      "Number of vowels: 3\n"
     ]
    }
   ],
   "source": [
    "num_vowels = sum(1 for char in s if char in vowels)\n",
    "print(\"Number of vowels:\", num_vowels)"
   ]
  },
  {
   "cell_type": "markdown",
   "id": "653f95a8-162b-4e7e-8108-2b74aa3bccc1",
   "metadata": {},
   "source": [
    "6. Count the number of consonants in a string."
   ]
  },
  {
   "cell_type": "code",
   "execution_count": 41,
   "id": "3d499aed-f9a0-48e7-aa5d-7cd02a6d16f5",
   "metadata": {},
   "outputs": [],
   "source": [
    "s='immigration'"
   ]
  },
  {
   "cell_type": "code",
   "execution_count": 42,
   "id": "8a27b98a-2a7c-474e-a445-6d2d63f8d14e",
   "metadata": {},
   "outputs": [
    {
     "data": {
      "text/plain": [
       "'immigration'"
      ]
     },
     "execution_count": 42,
     "metadata": {},
     "output_type": "execute_result"
    }
   ],
   "source": [
    "s.lower()"
   ]
  },
  {
   "cell_type": "code",
   "execution_count": 43,
   "id": "a7185b56-12d3-4d11-a034-b3d97a17c8e4",
   "metadata": {},
   "outputs": [
    {
     "name": "stdout",
     "output_type": "stream",
     "text": [
      "Number of consonants: 6\n"
     ]
    }
   ],
   "source": [
    "consonants=set('bcdfghjklmnpqrstvwxyz')\n",
    "num_consonants=sum(1 for char in s if char in consonants)\n",
    "print('Number of consonants:',num_consonants)"
   ]
  },
  {
   "cell_type": "markdown",
   "id": "a5b79446-49bb-49a5-b72e-ec391eaf4729",
   "metadata": {},
   "source": [
    "7. Remove all whitespaces from a string."
   ]
  },
  {
   "cell_type": "code",
   "execution_count": 44,
   "id": "5655e755-f142-4c04-8155-33a01e891a0c",
   "metadata": {},
   "outputs": [],
   "source": [
    "s1='this is my second assignment in pyhon basics'"
   ]
  },
  {
   "cell_type": "code",
   "execution_count": 54,
   "id": "b9bed01b-eb01-4253-8249-db7ebcc82e32",
   "metadata": {},
   "outputs": [
    {
     "data": {
      "text/plain": [
       "'thisismysecondassignmentinpyhonbasics'"
      ]
     },
     "execution_count": 54,
     "metadata": {},
     "output_type": "execute_result"
    }
   ],
   "source": [
    "s1.replace(' ','')"
   ]
  },
  {
   "cell_type": "markdown",
   "id": "d3669934-121a-4207-8335-61b41b046968",
   "metadata": {},
   "source": [
    "8. Find the length of a string without using the `len()` function."
   ]
  },
  {
   "cell_type": "code",
   "execution_count": 65,
   "id": "54338b1a-d821-432a-a04e-072b1c5facc3",
   "metadata": {},
   "outputs": [],
   "source": [
    "s1='this is my second assignment in pyhon basics'"
   ]
  },
  {
   "cell_type": "code",
   "execution_count": 76,
   "id": "57569203-b9e8-44b0-bbe2-94cddfef5d99",
   "metadata": {},
   "outputs": [
    {
     "data": {
      "text/plain": [
       "93"
      ]
     },
     "execution_count": 76,
     "metadata": {},
     "output_type": "execute_result"
    }
   ],
   "source": [
    "import sys\n",
    "sys.getsizeof(s1) #size in bytes"
   ]
  },
  {
   "cell_type": "markdown",
   "id": "4ecd533b-3867-4c2b-8c1e-97485dfad8a0",
   "metadata": {},
   "source": [
    "9. Check if a string contains a specific word."
   ]
  },
  {
   "cell_type": "code",
   "execution_count": 77,
   "id": "c3163e07-54b2-453a-a0b0-902c15e5a91a",
   "metadata": {},
   "outputs": [],
   "source": [
    "s2='wish you a happy new year'"
   ]
  },
  {
   "cell_type": "code",
   "execution_count": 115,
   "id": "3a9b0692-3492-4546-987d-6aa3116ac6f2",
   "metadata": {},
   "outputs": [
    {
     "data": {
      "text/plain": [
       "5"
      ]
     },
     "execution_count": 115,
     "metadata": {},
     "output_type": "execute_result"
    }
   ],
   "source": [
    "s2.find('you') #index is not -1 so the word was found"
   ]
  },
  {
   "cell_type": "markdown",
   "id": "700cdafc-615d-4bae-b0b2-eb66e0f699c6",
   "metadata": {},
   "source": [
    "10. Replace a word in a string with another word."
   ]
  },
  {
   "cell_type": "code",
   "execution_count": 116,
   "id": "d7b88e32-a704-4ac1-bb24-423fb82a6c20",
   "metadata": {},
   "outputs": [
    {
     "data": {
      "text/plain": [
       "'wish you a happy old year'"
      ]
     },
     "execution_count": 116,
     "metadata": {},
     "output_type": "execute_result"
    }
   ],
   "source": [
    "s2.replace('new', 'old')"
   ]
  },
  {
   "cell_type": "markdown",
   "id": "7fc7a109-b61d-4ceb-9288-4c77da286582",
   "metadata": {},
   "source": [
    "11. Count the occurrences of a word in a string."
   ]
  },
  {
   "cell_type": "code",
   "execution_count": 137,
   "id": "32f4dd46-8a41-47a2-89a3-84544e45c9ed",
   "metadata": {},
   "outputs": [],
   "source": [
    "s3='i am happy and glad and that i can write codes now and it is great and happy'"
   ]
  },
  {
   "cell_type": "code",
   "execution_count": 138,
   "id": "ff1d7fb2-1b7e-40f9-98a0-97408efc2cc1",
   "metadata": {},
   "outputs": [
    {
     "data": {
      "text/plain": [
       "5"
      ]
     },
     "execution_count": 138,
     "metadata": {},
     "output_type": "execute_result"
    }
   ],
   "source": [
    "s3.count('i')"
   ]
  },
  {
   "cell_type": "markdown",
   "id": "2e7ff9ae-8e0d-43e7-b4d1-e4b6807c52ee",
   "metadata": {},
   "source": [
    "12. Find the first occurrence of a word in a string."
   ]
  },
  {
   "cell_type": "code",
   "execution_count": 141,
   "id": "87d471d5-403b-4029-b861-caa30d826bd3",
   "metadata": {},
   "outputs": [
    {
     "data": {
      "text/plain": [
       "5"
      ]
     },
     "execution_count": 141,
     "metadata": {},
     "output_type": "execute_result"
    }
   ],
   "source": [
    "s3.find('happy')"
   ]
  },
  {
   "cell_type": "markdown",
   "id": "b6a3b890-f144-4e03-91b0-a9fd4a337827",
   "metadata": {},
   "source": [
    "13. Find the last occurrence of a word in a string."
   ]
  },
  {
   "cell_type": "code",
   "execution_count": 144,
   "id": "c4431166-32a2-4ec4-9328-eba8e8f234e7",
   "metadata": {},
   "outputs": [
    {
     "data": {
      "text/plain": [
       "71"
      ]
     },
     "execution_count": 144,
     "metadata": {},
     "output_type": "execute_result"
    }
   ],
   "source": [
    "s3.rfind('happy')"
   ]
  },
  {
   "cell_type": "markdown",
   "id": "1c2a776a-980e-49e5-9302-18a5363a43d8",
   "metadata": {},
   "source": [
    "14. Split a string into a list of words."
   ]
  },
  {
   "cell_type": "code",
   "execution_count": 146,
   "id": "b13097af-8b78-470a-82c5-08dbc329a83e",
   "metadata": {},
   "outputs": [
    {
     "data": {
      "text/plain": [
       "['i',\n",
       " 'am',\n",
       " 'happy',\n",
       " 'and',\n",
       " 'glad',\n",
       " 'and',\n",
       " 'that',\n",
       " 'i',\n",
       " 'can',\n",
       " 'write',\n",
       " 'codes',\n",
       " 'now',\n",
       " 'and',\n",
       " 'it',\n",
       " 'is',\n",
       " 'great',\n",
       " 'and',\n",
       " 'happy']"
      ]
     },
     "execution_count": 146,
     "metadata": {},
     "output_type": "execute_result"
    }
   ],
   "source": [
    "s3.split()"
   ]
  },
  {
   "cell_type": "markdown",
   "id": "84a31750-ade2-4835-9567-1b7fcd446603",
   "metadata": {},
   "source": [
    "15. Join a list of words into a string."
   ]
  },
  {
   "cell_type": "code",
   "execution_count": 2,
   "id": "f8c93af2-ca6c-4a81-b114-a701de5cd776",
   "metadata": {},
   "outputs": [],
   "source": [
    "s5='sneha is a good girl'"
   ]
  },
  {
   "cell_type": "code",
   "execution_count": 3,
   "id": "d1ad9f3d-41a7-4c40-b00c-652991ccac0b",
   "metadata": {},
   "outputs": [],
   "source": [
    "s6=' but she is a bit naughty'\n",
    "s7=s5+s6"
   ]
  },
  {
   "cell_type": "code",
   "execution_count": 4,
   "id": "6f05f039-d648-4a9b-a8f8-41f1c67428a2",
   "metadata": {},
   "outputs": [
    {
     "data": {
      "text/plain": [
       "'sneha is a good girl but she is a bit naughty'"
      ]
     },
     "execution_count": 4,
     "metadata": {},
     "output_type": "execute_result"
    }
   ],
   "source": [
    "s7"
   ]
  },
  {
   "cell_type": "code",
   "execution_count": 5,
   "id": "4226e1c3-e6cd-485f-ac38-5bdeff5f5332",
   "metadata": {},
   "outputs": [
    {
     "data": {
      "text/plain": [
       "str"
      ]
     },
     "execution_count": 5,
     "metadata": {},
     "output_type": "execute_result"
    }
   ],
   "source": [
    "type (s7)"
   ]
  },
  {
   "cell_type": "markdown",
   "id": "999d39f1-ef1c-4f7e-9322-de40ec02dcb6",
   "metadata": {},
   "source": [
    "16. Convert a string where words are separated by spaces to one where words\n",
    "are separated by underscores."
   ]
  },
  {
   "cell_type": "code",
   "execution_count": 1,
   "id": "e5d7f7df-c9b7-4d13-adc0-22107c9ecb22",
   "metadata": {},
   "outputs": [],
   "source": [
    "s6='this is my second assignment in python basics'"
   ]
  },
  {
   "cell_type": "code",
   "execution_count": 2,
   "id": "8935899e-e835-44fb-8240-11a920ceb80c",
   "metadata": {},
   "outputs": [
    {
     "data": {
      "text/plain": [
       "'this_is_my_second_assignment_in_python_basics'"
      ]
     },
     "execution_count": 2,
     "metadata": {},
     "output_type": "execute_result"
    }
   ],
   "source": [
    "s6.replace(' ','_')"
   ]
  },
  {
   "cell_type": "markdown",
   "id": "102188df-072f-4503-81cb-b442c9d3bf68",
   "metadata": {},
   "source": [
    "17. Check if a string starts with a specific word or phrase."
   ]
  },
  {
   "cell_type": "code",
   "execution_count": 1,
   "id": "b3a91fa8-af06-48eb-91ea-70598009fc74",
   "metadata": {},
   "outputs": [],
   "source": [
    "s6='this is my second assignment in python basics'"
   ]
  },
  {
   "cell_type": "code",
   "execution_count": 145,
   "id": "48df97c0-5234-45a3-84af-263febbc52a7",
   "metadata": {},
   "outputs": [
    {
     "data": {
      "text/plain": [
       "True"
      ]
     },
     "execution_count": 145,
     "metadata": {},
     "output_type": "execute_result"
    }
   ],
   "source": [
    "s6.startswith('this')"
   ]
  },
  {
   "cell_type": "markdown",
   "id": "0c566f16-8ff2-4659-b112-208c5927decc",
   "metadata": {},
   "source": [
    "18. Check if a string ends with a specific word or phrase."
   ]
  },
  {
   "cell_type": "code",
   "execution_count": 12,
   "id": "f5fc38dd-ffcc-4fa0-a2fe-970f82519c12",
   "metadata": {},
   "outputs": [
    {
     "data": {
      "text/plain": [
       "False"
      ]
     },
     "execution_count": 12,
     "metadata": {},
     "output_type": "execute_result"
    }
   ],
   "source": [
    "s6.endswith('old') #since the word is not present so return value is -1"
   ]
  },
  {
   "cell_type": "markdown",
   "id": "82bcfbcd-51e5-43c6-95e1-f30ac78efc48",
   "metadata": {},
   "source": [
    "19. Convert a string to title case (e.g., \"hello world\" to \"Hello World\")."
   ]
  },
  {
   "cell_type": "code",
   "execution_count": 9,
   "id": "ef29943f-d926-4e53-acca-fd97369d53a6",
   "metadata": {},
   "outputs": [],
   "source": [
    "s7='i am happy to do coding in python'"
   ]
  },
  {
   "cell_type": "code",
   "execution_count": 10,
   "id": "ad9b8daa-9af2-433e-bfd5-3fbf44d99624",
   "metadata": {},
   "outputs": [
    {
     "data": {
      "text/plain": [
       "'I Am Happy To Do Coding In Python'"
      ]
     },
     "execution_count": 10,
     "metadata": {},
     "output_type": "execute_result"
    }
   ],
   "source": [
    "s7.title()"
   ]
  },
  {
   "cell_type": "markdown",
   "id": "c571ded1-839e-47bc-9634-12f9da6c7062",
   "metadata": {},
   "source": [
    "20. Find the longest word in a string."
   ]
  },
  {
   "cell_type": "code",
   "execution_count": 11,
   "id": "053d0a30-ba42-4712-9a11-5d403a399179",
   "metadata": {},
   "outputs": [],
   "source": [
    "s8='pneumonoultramicroscopicsilicovolcanoconiosis is the longest word in english'"
   ]
  },
  {
   "cell_type": "code",
   "execution_count": 15,
   "id": "82f048af-803b-473d-b3a0-723a231ff254",
   "metadata": {},
   "outputs": [
    {
     "data": {
      "text/plain": [
       "['pneumonoultramicroscopicsilicovolcanoconiosis',\n",
       " 'is',\n",
       " 'the',\n",
       " 'longest',\n",
       " 'word',\n",
       " 'in',\n",
       " 'english']"
      ]
     },
     "execution_count": 15,
     "metadata": {},
     "output_type": "execute_result"
    }
   ],
   "source": [
    "s8.split()"
   ]
  },
  {
   "cell_type": "code",
   "execution_count": 16,
   "id": "c21a43e9-4a1f-4196-9ad4-c5087aefbfb8",
   "metadata": {},
   "outputs": [],
   "source": [
    "longest_word=max(['pneumonoultramicroscopicsilicovolcanoconiosis','is','the','longest','word','in','english'],key=len)"
   ]
  },
  {
   "cell_type": "code",
   "execution_count": 17,
   "id": "e1ec44ba-0995-4d81-ac2f-04e90860a814",
   "metadata": {},
   "outputs": [
    {
     "data": {
      "text/plain": [
       "'pneumonoultramicroscopicsilicovolcanoconiosis'"
      ]
     },
     "execution_count": 17,
     "metadata": {},
     "output_type": "execute_result"
    }
   ],
   "source": [
    "longest_word"
   ]
  },
  {
   "cell_type": "markdown",
   "id": "fd506e0f-8790-4e37-9e66-3fdc05f75815",
   "metadata": {},
   "source": [
    "21. Find the shortest word in a string."
   ]
  },
  {
   "cell_type": "code",
   "execution_count": 21,
   "id": "ed78835a-b2da-4906-a571-2faa6fe1840f",
   "metadata": {},
   "outputs": [],
   "source": [
    "shortest_word=min(['pneumonoultramicroscopicsilicovolcanoconiosis','is','the','longest','word','in','english'],key=len)"
   ]
  },
  {
   "cell_type": "code",
   "execution_count": 22,
   "id": "c2e44b37-c25a-4ef3-967c-8ccff1c5656d",
   "metadata": {},
   "outputs": [
    {
     "data": {
      "text/plain": [
       "'is'"
      ]
     },
     "execution_count": 22,
     "metadata": {},
     "output_type": "execute_result"
    }
   ],
   "source": [
    "shortest_word"
   ]
  },
  {
   "cell_type": "markdown",
   "id": "574a69d3-de62-48da-bce0-24ab69fe0dc3",
   "metadata": {},
   "source": [
    "22. Reverse the order of words in a string."
   ]
  },
  {
   "cell_type": "code",
   "execution_count": 29,
   "id": "4c013a0f-b96a-41c7-8a8e-48c7a64d6cc7",
   "metadata": {},
   "outputs": [],
   "source": [
    "s9='silicosis is a disease'"
   ]
  },
  {
   "cell_type": "code",
   "execution_count": 30,
   "id": "8c82a45d-e6b9-4618-b62d-9cffafb02f49",
   "metadata": {},
   "outputs": [
    {
     "data": {
      "text/plain": [
       "'esaesid a si sisocilis'"
      ]
     },
     "execution_count": 30,
     "metadata": {},
     "output_type": "execute_result"
    }
   ],
   "source": [
    "s9[::-1]"
   ]
  },
  {
   "cell_type": "markdown",
   "id": "0da7fa24-7791-4543-ac09-b573070ed838",
   "metadata": {},
   "source": [
    "23. Check if a string is alphanumeric."
   ]
  },
  {
   "cell_type": "code",
   "execution_count": 53,
   "id": "6730ad04-d9d9-494a-b2b2-5d71bf75ce68",
   "metadata": {},
   "outputs": [],
   "source": [
    "s11='Orange321a'"
   ]
  },
  {
   "cell_type": "code",
   "execution_count": 54,
   "id": "9f3530b7-e932-43c1-a569-9fd3e170b03a",
   "metadata": {},
   "outputs": [
    {
     "data": {
      "text/plain": [
       "True"
      ]
     },
     "execution_count": 54,
     "metadata": {},
     "output_type": "execute_result"
    }
   ],
   "source": [
    "s11.isalnum()"
   ]
  },
  {
   "cell_type": "markdown",
   "id": "e8af1119-f3b9-449b-ad29-90b0bc0a319b",
   "metadata": {},
   "source": [
    "24. Extract all digits from a string."
   ]
  },
  {
   "cell_type": "code",
   "execution_count": 97,
   "id": "b98c2b05-0b3c-448c-8c02-9da2337c1472",
   "metadata": {},
   "outputs": [],
   "source": [
    "s5='Orange321a'"
   ]
  },
  {
   "cell_type": "code",
   "execution_count": 99,
   "id": "9577c030-add4-47ea-b887-66fffba90c6b",
   "metadata": {},
   "outputs": [
    {
     "data": {
      "text/plain": [
       "'321'"
      ]
     },
     "execution_count": 99,
     "metadata": {},
     "output_type": "execute_result"
    }
   ],
   "source": [
    "s5.strip('Orangea')"
   ]
  },
  {
   "cell_type": "markdown",
   "id": "7a9676cd-f58e-489a-b2b2-5977ec1c4809",
   "metadata": {},
   "source": [
    "25. Extract all alphabets from a string."
   ]
  },
  {
   "cell_type": "code",
   "execution_count": 100,
   "id": "bf36b0ad-bfbb-41dc-b6cb-a9e97bbdfe57",
   "metadata": {},
   "outputs": [
    {
     "data": {
      "text/plain": [
       "'Orange321a'"
      ]
     },
     "execution_count": 100,
     "metadata": {},
     "output_type": "execute_result"
    }
   ],
   "source": [
    "s5.strip('321')"
   ]
  },
  {
   "cell_type": "markdown",
   "id": "0bd75df4-a40a-48a5-b943-8df7c9f29e7d",
   "metadata": {},
   "source": [
    "26. Count the number of uppercase letters in a string."
   ]
  },
  {
   "cell_type": "code",
   "execution_count": 165,
   "id": "139616b8-fa61-4e36-8d7d-c563dc08cdd6",
   "metadata": {},
   "outputs": [
    {
     "data": {
      "text/plain": [
       "6"
      ]
     },
     "execution_count": 165,
     "metadata": {},
     "output_type": "execute_result"
    }
   ],
   "source": [
    "s1='ThisIsASimplePythonProgram'\n",
    "import re\n",
    "len(re.findall('[A-Z]',s1))\n"
   ]
  },
  {
   "cell_type": "markdown",
   "id": "16fe1db2-304f-4c41-be98-c83277424982",
   "metadata": {},
   "source": [
    "27. Count the number of lowercase letters in a string."
   ]
  },
  {
   "cell_type": "code",
   "execution_count": 166,
   "id": "30d47e24-f59f-48c2-8efb-6b2558c35007",
   "metadata": {},
   "outputs": [
    {
     "data": {
      "text/plain": [
       "20"
      ]
     },
     "execution_count": 166,
     "metadata": {},
     "output_type": "execute_result"
    }
   ],
   "source": [
    "s1='ThisIsASimplePythonProgram'\n",
    "import re\n",
    "len(re.findall('[a-z]',s1))"
   ]
  },
  {
   "cell_type": "markdown",
   "id": "1465f32d-ab51-4324-b739-bd28b36240cb",
   "metadata": {},
   "source": [
    "28. Swap the case of each character in a string."
   ]
  },
  {
   "cell_type": "code",
   "execution_count": 167,
   "id": "6839a6c7-744d-4867-8f03-174f34f09e5f",
   "metadata": {},
   "outputs": [
    {
     "data": {
      "text/plain": [
       "'ThisIsASimplePythonProgram'"
      ]
     },
     "execution_count": 167,
     "metadata": {},
     "output_type": "execute_result"
    }
   ],
   "source": [
    "s1"
   ]
  },
  {
   "cell_type": "code",
   "execution_count": 168,
   "id": "bbd80513-f4e4-4246-9963-d0de9ab949ec",
   "metadata": {},
   "outputs": [
    {
     "data": {
      "text/plain": [
       "'tHISiSasIMPLEpYTHONpROGRAM'"
      ]
     },
     "execution_count": 168,
     "metadata": {},
     "output_type": "execute_result"
    }
   ],
   "source": [
    "s1.swapcase()"
   ]
  },
  {
   "cell_type": "markdown",
   "id": "18134b7c-62e6-4348-a863-0610362a804b",
   "metadata": {},
   "source": [
    "29. Remove a specific word from a string."
   ]
  },
  {
   "cell_type": "code",
   "execution_count": 169,
   "id": "bfc90eb8-f0bc-4792-b8d8-fef74a9aa2df",
   "metadata": {},
   "outputs": [],
   "source": [
    "s2='this is a test programme'"
   ]
  },
  {
   "cell_type": "code",
   "execution_count": 172,
   "id": "9007cb97-dd39-4b31-93d3-56994673d7b0",
   "metadata": {},
   "outputs": [
    {
     "data": {
      "text/plain": [
       "' is a test programme'"
      ]
     },
     "execution_count": 172,
     "metadata": {},
     "output_type": "execute_result"
    }
   ],
   "source": [
    "s2.strip('this')"
   ]
  },
  {
   "cell_type": "markdown",
   "id": "82233df1-1101-4098-9e82-860e17f4fbc3",
   "metadata": {},
   "source": [
    "30. Check if a string is a valid email address."
   ]
  },
  {
   "cell_type": "code",
   "execution_count": 1,
   "id": "d20293b8-e115-4fe2-ac70-b811df022fcd",
   "metadata": {},
   "outputs": [
    {
     "name": "stdout",
     "output_type": "stream",
     "text": [
      "The email address \"graj00863@email.com\" is valid.\n"
     ]
    }
   ],
   "source": [
    "import re\n",
    "\n",
    "def is_valid_email(email):\n",
    "    pattern = r'^[a-zA-Z0-9._%+-]+@[a-zA-Z0-9.-]+\\.[a-zA-Z]{2,}$'\n",
    "    return bool(re.match(pattern, email))\n",
    "\n",
    "s16 = 'graj00863@email.com'\n",
    "\n",
    "if is_valid_email(s16):\n",
    "    print(f'The email address \"{s16}\" is valid.')\n",
    "else:\n",
    "    print(f'The email address \"{s16}\" is not valid.')"
   ]
  },
  {
   "cell_type": "markdown",
   "id": "8d4469c1-1523-46a4-a7b6-65720748d6b5",
   "metadata": {},
   "source": [
    "31. Extract the username from an email address string."
   ]
  },
  {
   "cell_type": "code",
   "execution_count": 5,
   "id": "5b7506d4-4e27-4a2b-bdb8-32596e4f1d1b",
   "metadata": {},
   "outputs": [],
   "source": [
    "s1='xyz@email.com'"
   ]
  },
  {
   "cell_type": "code",
   "execution_count": 6,
   "id": "4aaffa32-69c3-4a29-905f-5020c6be4b7c",
   "metadata": {},
   "outputs": [
    {
     "data": {
      "text/plain": [
       "'xyz'"
      ]
     },
     "execution_count": 6,
     "metadata": {},
     "output_type": "execute_result"
    }
   ],
   "source": [
    "s1.strip('@email.com')"
   ]
  },
  {
   "cell_type": "markdown",
   "id": "c6c146ed-b8f1-4a9b-8fe8-f087036236b4",
   "metadata": {},
   "source": [
    "32.Extract the domain name from an email address string."
   ]
  },
  {
   "cell_type": "code",
   "execution_count": 7,
   "id": "82d407ed-df4b-4084-bfb9-078421a54e69",
   "metadata": {},
   "outputs": [
    {
     "data": {
      "text/plain": [
       "'xyz@email.com'"
      ]
     },
     "execution_count": 7,
     "metadata": {},
     "output_type": "execute_result"
    }
   ],
   "source": [
    "s1"
   ]
  },
  {
   "cell_type": "code",
   "execution_count": 8,
   "id": "802efb0c-3eb9-43a1-9ffb-6ad56763682f",
   "metadata": {},
   "outputs": [
    {
     "data": {
      "text/plain": [
       "'@email.com'"
      ]
     },
     "execution_count": 8,
     "metadata": {},
     "output_type": "execute_result"
    }
   ],
   "source": [
    "s1.lstrip('xyz')"
   ]
  },
  {
   "cell_type": "markdown",
   "id": "6e6b7a20-9fcc-496e-8f92-0b23e877de52",
   "metadata": {},
   "source": [
    "33. Replace multiple spaces in a string with a single space."
   ]
  },
  {
   "cell_type": "code",
   "execution_count": 9,
   "id": "43fb4b24-77c6-4da9-b755-d89cada11c04",
   "metadata": {},
   "outputs": [],
   "source": [
    "s2='there   are multiple space in     this string'"
   ]
  },
  {
   "cell_type": "code",
   "execution_count": 20,
   "id": "54af2253-a484-4bc9-b571-68df775210ac",
   "metadata": {},
   "outputs": [
    {
     "data": {
      "text/plain": [
       "'there are multiple spaces in this string'"
      ]
     },
     "execution_count": 20,
     "metadata": {},
     "output_type": "execute_result"
    }
   ],
   "source": [
    "s2.replace('  ',' ')"
   ]
  },
  {
   "cell_type": "markdown",
   "id": "0db2688b-a3fc-4d93-ad86-dd100466d59e",
   "metadata": {},
   "source": [
    "34. Check if a string is a valid URL. #pending"
   ]
  },
  {
   "cell_type": "code",
   "execution_count": 4,
   "id": "995e2e18-181e-4d13-af8c-c2514a68a8ea",
   "metadata": {},
   "outputs": [
    {
     "name": "stdout",
     "output_type": "stream",
     "text": [
      "invalid url\n"
     ]
    }
   ],
   "source": [
    "string = 'https://www.example.com'\n",
    "example_url='https://pwskills.com' \n",
    "if string in example_url:\n",
    "    print (\"url is valid\")\n",
    "else:\n",
    "    print ('invalid url')"
   ]
  },
  {
   "cell_type": "markdown",
   "id": "69cf609e-39be-4c68-9a81-0629fb776fc5",
   "metadata": {},
   "source": [
    "36. Find the frequency of each character in a string."
   ]
  },
  {
   "cell_type": "code",
   "execution_count": 11,
   "id": "dac0ec8f-3f24-4539-b12c-947132773299",
   "metadata": {},
   "outputs": [
    {
     "name": "stdout",
     "output_type": "stream",
     "text": [
      "The character 't' occurs 6 times.\n",
      "The character 'h' occurs 2 times.\n",
      "The character 'i' occurs 4 times.\n",
      "The character 's' occurs once.\n",
      "The character 'o' occurs 5 times.\n",
      "The character 'n' occurs once.\n",
      "The character 'e' occurs 2 times.\n",
      "The character 'f' occurs 2 times.\n",
      "The character 'l' occurs 2 times.\n",
      "The character 'b' occurs once.\n",
      "The character 'r' occurs 2 times.\n",
      "The character 'c' occurs once.\n",
      "The character 'k' occurs once.\n",
      "The character 'y' occurs once.\n",
      "The character 'w' occurs once.\n",
      "The character 'u' occurs once.\n",
      "The character 'p' occurs once.\n"
     ]
    }
   ],
   "source": [
    "string = 'this one felt bit tricky without for loop'\n",
    "char_count = {}\n",
    "\n",
    "for char in string:\n",
    "    if 'a' <= char <= 'z':\n",
    "        if char in char_count:\n",
    "            char_count[char] += 1\n",
    "        else:\n",
    "            char_count[char] = 1\n",
    "\n",
    "for char, count in char_count.items():\n",
    "    if count == 1:\n",
    "        print(f\"The character '{char}' occurs once.\")\n",
    "    else:\n",
    "        print(f\"The character '{char}' occurs {count} times.\")"
   ]
  },
  {
   "cell_type": "raw",
   "id": "72c706fb-3c8c-40ad-b2c5-242c7e10120d",
   "metadata": {},
   "source": [
    "38.Check if a string contains only digits."
   ]
  },
  {
   "cell_type": "code",
   "execution_count": 38,
   "id": "bc1f05cb-010d-4061-b0cc-38b8d3185525",
   "metadata": {},
   "outputs": [],
   "source": [
    "s0='Orange@321a'"
   ]
  },
  {
   "cell_type": "code",
   "execution_count": 39,
   "id": "32f1a78a-c27e-4aaa-bcb3-64bafe38023f",
   "metadata": {},
   "outputs": [
    {
     "data": {
      "text/plain": [
       "False"
      ]
     },
     "execution_count": 39,
     "metadata": {},
     "output_type": "execute_result"
    }
   ],
   "source": [
    "s0.isdigit()"
   ]
  },
  {
   "cell_type": "markdown",
   "id": "e2e34414-9926-400d-be78-93c65becf334",
   "metadata": {},
   "source": [
    "39. Check if a string contains only alphabets."
   ]
  },
  {
   "cell_type": "code",
   "execution_count": 36,
   "id": "62de95cb-817f-4db3-a579-b451ece578a4",
   "metadata": {},
   "outputs": [],
   "source": [
    "s12='girirajgupta'"
   ]
  },
  {
   "cell_type": "code",
   "execution_count": 37,
   "id": "d91946d1-780b-48f0-8337-bd38732b3c60",
   "metadata": {},
   "outputs": [
    {
     "data": {
      "text/plain": [
       "True"
      ]
     },
     "execution_count": 37,
     "metadata": {},
     "output_type": "execute_result"
    }
   ],
   "source": [
    "s12.isalpha()"
   ]
  },
  {
   "cell_type": "markdown",
   "id": "bbfe63f7-f0eb-4faf-8238-45f9ce245bae",
   "metadata": {},
   "source": [
    "40.Convert a string to a list of characters."
   ]
  },
  {
   "cell_type": "code",
   "execution_count": 31,
   "id": "04273179-e1b8-405d-89c2-184199ff0233",
   "metadata": {},
   "outputs": [],
   "source": [
    "s8='python programmig is so much fun'"
   ]
  },
  {
   "cell_type": "code",
   "execution_count": 32,
   "id": "94a85f7c-8255-4a42-92f4-8c6279c8b6de",
   "metadata": {},
   "outputs": [
    {
     "data": {
      "text/plain": [
       "['python', 'programmig', 'is', 'so', 'much', 'fun']"
      ]
     },
     "execution_count": 32,
     "metadata": {},
     "output_type": "execute_result"
    }
   ],
   "source": [
    "s8.split()"
   ]
  },
  {
   "cell_type": "markdown",
   "id": "d9cbda84-4cf3-4d88-9fd4-1286b7183955",
   "metadata": {},
   "source": [
    "37. Remove all punctuation from a string."
   ]
  },
  {
   "cell_type": "code",
   "execution_count": 56,
   "id": "ea64ff49-118a-4fa8-bef6-b32402e75ed1",
   "metadata": {},
   "outputs": [],
   "source": [
    "a1= \"tricky codes are the, first , which ! we need to understand first\""
   ]
  },
  {
   "cell_type": "code",
   "execution_count": 69,
   "id": "b092e83c-da43-45e7-aa0e-bab460769fd6",
   "metadata": {},
   "outputs": [
    {
     "data": {
      "text/plain": [
       "'tricky codes are the, first , which  we need to understand first'"
      ]
     },
     "execution_count": 69,
     "metadata": {},
     "output_type": "execute_result"
    }
   ],
   "source": [
    "a1.replace('!','')"
   ]
  },
  {
   "cell_type": "code",
   "execution_count": 70,
   "id": "4fd1af12-8644-460e-a400-da4343fcfc1b",
   "metadata": {},
   "outputs": [],
   "source": [
    "a2=a1.replace('!','')"
   ]
  },
  {
   "cell_type": "code",
   "execution_count": 71,
   "id": "7bd8884c-0736-4ce4-bd66-a0efe2a7e288",
   "metadata": {},
   "outputs": [
    {
     "data": {
      "text/plain": [
       "'tricky codes are the first  which  we need to understand first'"
      ]
     },
     "execution_count": 71,
     "metadata": {},
     "output_type": "execute_result"
    }
   ],
   "source": [
    "a2.replace(',','')"
   ]
  },
  {
   "cell_type": "code",
   "execution_count": 72,
   "id": "e6f265e6-2751-4bb4-b296-399c76149442",
   "metadata": {},
   "outputs": [],
   "source": [
    "a3=a2.replace(',','')"
   ]
  },
  {
   "cell_type": "code",
   "execution_count": 73,
   "id": "ca362bd9-6104-4e31-8c3d-06a1927ac0be",
   "metadata": {},
   "outputs": [
    {
     "data": {
      "text/plain": [
       "'tricky codes are the first  which  we need to understand first'"
      ]
     },
     "execution_count": 73,
     "metadata": {},
     "output_type": "execute_result"
    }
   ],
   "source": [
    "a3.replace('.','')"
   ]
  },
  {
   "cell_type": "code",
   "execution_count": null,
   "id": "f931a7f2-0556-4a5f-8317-f9177d2ad508",
   "metadata": {},
   "outputs": [],
   "source": []
  },
  {
   "cell_type": "markdown",
   "id": "276d6e58-34b4-4839-8e61-4c3b88109667",
   "metadata": {},
   "source": [
    "41. Check if two strings are anagrams."
   ]
  },
  {
   "cell_type": "code",
   "execution_count": 43,
   "id": "e49a4a62-6779-4761-b62e-935036e2372d",
   "metadata": {},
   "outputs": [
    {
     "name": "stdout",
     "output_type": "stream",
     "text": [
      "they are anagrams\n"
     ]
    }
   ],
   "source": [
    "s2='cat'\n",
    "\n",
    "s1='act'\n",
    "\n",
    "if len(s1) != len (s2):\n",
    "    letters1 = s1.strip().split()\n",
    "    print ('they are not anagrams')\n",
    "else:\n",
    "    letters2 = s2.strip().split()\n",
    "    print (\"they are anagrams\")    "
   ]
  },
  {
   "cell_type": "markdown",
   "id": "3f9c7572-3389-44b0-bb3f-d5eee71e69df",
   "metadata": {},
   "source": [
    "42. Encode a string using a Caesar cipher."
   ]
  },
  {
   "cell_type": "code",
   "execution_count": null,
   "id": "76901471-1147-49f1-8771-5c5eb4cba51e",
   "metadata": {},
   "outputs": [],
   "source": []
  },
  {
   "cell_type": "code",
   "execution_count": null,
   "id": "8c5e5156-df01-44d9-b4c3-8cf4603044d9",
   "metadata": {},
   "outputs": [],
   "source": []
  },
  {
   "cell_type": "markdown",
   "id": "1412b3fb-5cbb-4ad8-84b5-b1c0e3c7da7f",
   "metadata": {},
   "source": [
    "43. Decode a Caesar cipher encoded string."
   ]
  },
  {
   "cell_type": "code",
   "execution_count": null,
   "id": "515b41db-1601-45fe-af3d-b58f286b9f9b",
   "metadata": {},
   "outputs": [],
   "source": []
  },
  {
   "cell_type": "code",
   "execution_count": null,
   "id": "0079f8dc-a1fe-4d6b-a581-b6114e15d97d",
   "metadata": {},
   "outputs": [],
   "source": []
  },
  {
   "cell_type": "markdown",
   "id": "ef6d3909-5f37-4fd5-b4a5-280b7bc95eab",
   "metadata": {},
   "source": [
    "44. Find the most frequent word in a string."
   ]
  },
  {
   "cell_type": "code",
   "execution_count": null,
   "id": "2931fa30-27a8-4629-bdc3-ea561b91cf51",
   "metadata": {},
   "outputs": [],
   "source": []
  },
  {
   "cell_type": "code",
   "execution_count": null,
   "id": "6b8b24ab-9e3b-46fa-8588-12e09555c922",
   "metadata": {},
   "outputs": [],
   "source": []
  },
  {
   "cell_type": "markdown",
   "id": "0c70e5c8-8603-4988-9f2b-033324b11dc9",
   "metadata": {},
   "source": [
    "45. Find all unique words in a string."
   ]
  },
  {
   "cell_type": "code",
   "execution_count": null,
   "id": "7a7a4a6d-ae4c-4903-9036-9136b5e1575d",
   "metadata": {},
   "outputs": [],
   "source": []
  },
  {
   "cell_type": "code",
   "execution_count": null,
   "id": "2b66c7fd-c87e-4bf3-a884-9cd54eb74984",
   "metadata": {},
   "outputs": [],
   "source": []
  },
  {
   "cell_type": "markdown",
   "id": "0136cc85-4539-464a-9f20-39f77b169630",
   "metadata": {},
   "source": [
    "46. Count the number of syllables in a string."
   ]
  },
  {
   "cell_type": "code",
   "execution_count": 8,
   "id": "062a0591-df09-4f98-b9d0-2d799f924755",
   "metadata": {},
   "outputs": [
    {
     "name": "stdout",
     "output_type": "stream",
     "text": [
      "Collecting syllables\n",
      "  Downloading syllables-1.0.9-py3-none-any.whl (15 kB)\n",
      "Requirement already satisfied: importlib-metadata<7.0,>=5.1 in /opt/conda/lib/python3.10/site-packages (from syllables) (5.1.0)\n",
      "Collecting cmudict<2.0.0,>=1.0.11\n",
      "  Downloading cmudict-1.0.16-py3-none-any.whl (939 kB)\n",
      "\u001b[2K     \u001b[90m━━━━━━━━━━━━━━━━━━━━━━━━━━━━━━━━━━━━━━\u001b[0m \u001b[32m939.4/939.4 kB\u001b[0m \u001b[31m51.3 MB/s\u001b[0m eta \u001b[36m0:00:00\u001b[0m\n",
      "\u001b[?25hRequirement already satisfied: importlib-resources>=5 in /opt/conda/lib/python3.10/site-packages (from cmudict<2.0.0,>=1.0.11->syllables) (5.10.1)\n",
      "Requirement already satisfied: zipp>=0.5 in /opt/conda/lib/python3.10/site-packages (from importlib-metadata<7.0,>=5.1->syllables) (3.11.0)\n",
      "Installing collected packages: cmudict, syllables\n",
      "Successfully installed cmudict-1.0.16 syllables-1.0.9\n",
      "Note: you may need to restart the kernel to use updated packages.\n"
     ]
    }
   ],
   "source": [
    "pip install syllables"
   ]
  },
  {
   "cell_type": "code",
   "execution_count": 9,
   "id": "bed4d6cc-db0e-40a9-a123-1744dd9a7a05",
   "metadata": {},
   "outputs": [],
   "source": [
    "import syllables"
   ]
  },
  {
   "cell_type": "code",
   "execution_count": 10,
   "id": "95a71eeb-6d0b-4aed-a55b-a6207de77493",
   "metadata": {},
   "outputs": [],
   "source": [
    "number_of_syllables = syllables.estimate(\"cholecystectomy\")"
   ]
  },
  {
   "cell_type": "code",
   "execution_count": 11,
   "id": "becbcb6c-e15c-49e6-b4e9-2ac053b85226",
   "metadata": {},
   "outputs": [
    {
     "name": "stdout",
     "output_type": "stream",
     "text": [
      "6\n"
     ]
    }
   ],
   "source": [
    "print(number_of_syllables)"
   ]
  },
  {
   "cell_type": "markdown",
   "id": "fee3b8eb-c89e-4167-a1af-5cd6d94b7182",
   "metadata": {},
   "source": [
    "47. Check if a string contains any special characters."
   ]
  },
  {
   "cell_type": "code",
   "execution_count": 12,
   "id": "49b66f43-ddeb-4001-91df-69017f690d33",
   "metadata": {},
   "outputs": [
    {
     "name": "stdout",
     "output_type": "stream",
     "text": [
      "the string contains special character\n"
     ]
    }
   ],
   "source": [
    "import re\n",
    "string_with_char = 'this is @ string that contains special! character'\n",
    "char=str(('@','!'))\n",
    "if re.search('[@!]', string_with_char):\n",
    "    print ('the string contains special character')\n",
    "else:\n",
    "    print ('no special character in string')\n"
   ]
  },
  {
   "cell_type": "markdown",
   "id": "eb4f4e34-d0c5-4a30-a82c-b4a1039cf91b",
   "metadata": {},
   "source": [
    "48. Remove the nth word from a string."
   ]
  },
  {
   "cell_type": "code",
   "execution_count": 41,
   "id": "cf3dc679-d0ad-4aff-850c-56fd1ba8c0ff",
   "metadata": {},
   "outputs": [
    {
     "name": "stdout",
     "output_type": "stream",
     "text": [
      "this is simple string\n"
     ]
    }
   ],
   "source": [
    "string = \" this is a simple string\"\n",
    "string.split()\n",
    "l1 = ['this', 'is', 'a', 'simple', 'string']\n",
    "l1.pop(2)\n",
    "string = ' '.join(l1)\n",
    "print(string)\n",
    "\n",
    "\n",
    "\n"
   ]
  },
  {
   "cell_type": "markdown",
   "id": "32af59c6-9e15-47f0-ae55-5a26a883d964",
   "metadata": {},
   "source": [
    "49. Insert a word at the nth position in a string."
   ]
  },
  {
   "cell_type": "code",
   "execution_count": 51,
   "id": "533c10a6-c9ff-42c2-85d7-f81333175097",
   "metadata": {},
   "outputs": [
    {
     "name": "stdout",
     "output_type": "stream",
     "text": [
      "this is not so difficult a simple string\n"
     ]
    }
   ],
   "source": [
    "string = \"this is a simple string\"\n",
    "string.split()\n",
    "l1 = ['this', 'is', 'a', 'simple', 'string']\n",
    "l1.insert(2,'not so difficult')\n",
    "string = ' '.join(l1)\n",
    "print(string)\n"
   ]
  },
  {
   "cell_type": "code",
   "execution_count": 54,
   "id": "b616cf0d-723f-4561-a78d-ed000ee30cd8",
   "metadata": {},
   "outputs": [
    {
     "name": "stdout",
     "output_type": "stream",
     "text": [
      "[['vivid', 'imagination'], ['is', '1', '2', '3', '4'], ['5', '6', '6', '6', '7']]\n"
     ]
    }
   ],
   "source": [
    "csv_string = '''vivid,imagination is,1,2,3,4 5,6,6,6,7'''\n",
    "csv_string.split()\n",
    "l1= ['vivid,imagination', 'is,1,2,3,4', '5,6,6,6,7']\n",
    "l1 = [x.split(',') for x in l1]\n",
    "print(l1)\n",
    "\n",
    "\n",
    "\n",
    "\n",
    "\n",
    "\n",
    "\n",
    "\n",
    "\n",
    "\n"
   ]
  },
  {
   "cell_type": "markdown",
   "id": "b50f3e96-7994-4f4b-b831-d3b8501abf26",
   "metadata": {},
   "source": [
    "1. Create a list with integers from 1 to 10."
   ]
  },
  {
   "cell_type": "code",
   "execution_count": 68,
   "id": "aef4a381-68d5-4bae-b94c-a177f88611dc",
   "metadata": {},
   "outputs": [
    {
     "name": "stdout",
     "output_type": "stream",
     "text": [
      "[1, 2, 3, 4, 5, 6, 7, 8, 9, 10]\n"
     ]
    }
   ],
   "source": [
    "list1 = [1, 2, 3, 4, 5,6,7,8,9,10]\n",
    "print(list1)"
   ]
  },
  {
   "cell_type": "markdown",
   "id": "706770ca-bc09-4976-8a08-7efc3d0cdf4c",
   "metadata": {},
   "source": [
    "2. Find the length of a list without using the `len()` function."
   ]
  },
  {
   "cell_type": "code",
   "execution_count": 69,
   "id": "8360ba8c-b2a2-4a1a-af38-9db65dc7d80a",
   "metadata": {},
   "outputs": [
    {
     "name": "stdout",
     "output_type": "stream",
     "text": [
      "1\n",
      "2\n",
      "3\n",
      "4\n",
      "5\n",
      "6\n",
      "7\n",
      "8\n",
      "9\n",
      "10\n"
     ]
    }
   ],
   "source": [
    "l1= [1, 2, 3, 4, 5, 6, 7, 8, 9, 10]\n",
    "for n in l1:\n",
    "    print (n)"
   ]
  },
  {
   "cell_type": "code",
   "execution_count": 71,
   "id": "d6d9ca93-b216-4b9e-965e-ed7770393d96",
   "metadata": {},
   "outputs": [
    {
     "data": {
      "text/plain": [
       "range(0, 10)"
      ]
     },
     "execution_count": 71,
     "metadata": {},
     "output_type": "execute_result"
    }
   ],
   "source": [
    "range(n)"
   ]
  },
  {
   "cell_type": "markdown",
   "id": "e1a9f9a3-7a0e-4fd3-913c-da3d740e499b",
   "metadata": {},
   "source": [
    "3. Append an element to the end of a list."
   ]
  },
  {
   "cell_type": "code",
   "execution_count": 72,
   "id": "d6f6a375-d31d-4cd0-be1e-5b60066b5247",
   "metadata": {},
   "outputs": [],
   "source": [
    "l1= [1, 2, 3, 4, 5, 6, 7, 8, 9, 10]\n",
    "l1.append(11)"
   ]
  },
  {
   "cell_type": "code",
   "execution_count": 73,
   "id": "517cc7e7-9ba6-4e92-9733-05a29f85a245",
   "metadata": {},
   "outputs": [
    {
     "name": "stdout",
     "output_type": "stream",
     "text": [
      "[1, 2, 3, 4, 5, 6, 7, 8, 9, 10, 11]\n"
     ]
    }
   ],
   "source": [
    "print(l1)"
   ]
  },
  {
   "cell_type": "markdown",
   "id": "94452130-869b-49df-8959-837f3d64c747",
   "metadata": {},
   "source": [
    "4. Insert an element at a specific index in a list."
   ]
  },
  {
   "cell_type": "code",
   "execution_count": 74,
   "id": "9fb3701f-9abb-4aaf-afbb-2a550066bb25",
   "metadata": {},
   "outputs": [],
   "source": [
    "l1= [1, 2, 3, 4, 5, 6, 7, 8, 9, 10]\n",
    "l1.insert(2,[45,34,71])"
   ]
  },
  {
   "cell_type": "code",
   "execution_count": 75,
   "id": "11003280-87bc-4b6e-bf7d-cb604e626e51",
   "metadata": {},
   "outputs": [
    {
     "name": "stdout",
     "output_type": "stream",
     "text": [
      "[1, 2, [45, 34, 71], 3, 4, 5, 6, 7, 8, 9, 10]\n"
     ]
    }
   ],
   "source": [
    "print(l1)"
   ]
  },
  {
   "cell_type": "markdown",
   "id": "4de4539d-9faa-44b3-9815-a43985fab959",
   "metadata": {},
   "source": [
    "5. Remove an element from a list by its value."
   ]
  },
  {
   "cell_type": "code",
   "execution_count": 77,
   "id": "09a53fb7-4f05-4702-a3c9-b5fb8af7dd5e",
   "metadata": {},
   "outputs": [],
   "source": [
    "l1= [1, 2, 3, 4, 5, 6, 7, 8, 9, 10]\n",
    "l1.remove(5)"
   ]
  },
  {
   "cell_type": "code",
   "execution_count": 78,
   "id": "abbda4f0-247e-4340-b3b6-0f53938d16f7",
   "metadata": {},
   "outputs": [
    {
     "name": "stdout",
     "output_type": "stream",
     "text": [
      "[1, 2, 3, 4, 6, 7, 8, 9, 10]\n"
     ]
    }
   ],
   "source": [
    "print(l1)"
   ]
  },
  {
   "cell_type": "markdown",
   "id": "97ac7eb7-c3a5-4603-bcb2-e247690d4c13",
   "metadata": {},
   "source": [
    "6. Remove an element from a list by its index."
   ]
  },
  {
   "cell_type": "code",
   "execution_count": 79,
   "id": "9b1957f4-8bc3-4900-9894-6174715f20a2",
   "metadata": {},
   "outputs": [
    {
     "data": {
      "text/plain": [
       "4"
      ]
     },
     "execution_count": 79,
     "metadata": {},
     "output_type": "execute_result"
    }
   ],
   "source": [
    "l1.pop(3)"
   ]
  },
  {
   "cell_type": "code",
   "execution_count": 80,
   "id": "942e1b7d-a8b0-4c67-9c58-5492c59deffe",
   "metadata": {},
   "outputs": [
    {
     "data": {
      "text/plain": [
       "[1, 2, 3, 6, 7, 8, 9, 10]"
      ]
     },
     "execution_count": 80,
     "metadata": {},
     "output_type": "execute_result"
    }
   ],
   "source": [
    "l1"
   ]
  },
  {
   "cell_type": "markdown",
   "id": "b5a617f9-c2fb-4905-9ec8-50fb5775eb38",
   "metadata": {},
   "source": [
    "7. Check if an element exists in a list."
   ]
  },
  {
   "cell_type": "code",
   "execution_count": 82,
   "id": "012f0152-f492-4aaa-9ec2-79744f08fcf4",
   "metadata": {},
   "outputs": [
    {
     "data": {
      "text/plain": [
       "[1, 2, 3, 6, 7, 8, 9, 10]"
      ]
     },
     "execution_count": 82,
     "metadata": {},
     "output_type": "execute_result"
    }
   ],
   "source": [
    "l1"
   ]
  },
  {
   "cell_type": "code",
   "execution_count": 85,
   "id": "1faf8a69-cf44-4e20-99ed-4e3225280877",
   "metadata": {},
   "outputs": [
    {
     "name": "stdout",
     "output_type": "stream",
     "text": [
      "yes the number exist\n"
     ]
    }
   ],
   "source": [
    "num2 = 2\n",
    "if num2 in l1:\n",
    "    print ('yes the number exist')\n",
    "else:\n",
    "    print ('number is not present in the list')\n",
    "    "
   ]
  },
  {
   "cell_type": "markdown",
   "id": "ca65d4ad-437d-4d64-8ac4-ce44763dfd48",
   "metadata": {},
   "source": [
    "8. Find the index of the first occurrence of an element in a list."
   ]
  },
  {
   "cell_type": "code",
   "execution_count": 90,
   "id": "b57ea41e-1503-46fe-aa86-5096580908d3",
   "metadata": {},
   "outputs": [
    {
     "name": "stdout",
     "output_type": "stream",
     "text": [
      "the index of the element is 7\n"
     ]
    }
   ],
   "source": [
    "l1 = ['giriraj', 1, 2, 3, 4, 5, 'giriraj', 'gupta']\n",
    "element = 'gupta'\n",
    "if element in l1[0]:\n",
    "    print('element in first index')\n",
    "    element = element + 1\n",
    "else:\n",
    "    print('the index of the element is', l1.index(element))\n",
    "\n",
    "\n",
    "\n"
   ]
  },
  {
   "cell_type": "markdown",
   "id": "e6f369e5-1538-44af-a70d-3306979cb7ab",
   "metadata": {},
   "source": [
    "9. Count the occurrences of an element in a list."
   ]
  },
  {
   "cell_type": "code",
   "execution_count": 94,
   "id": "b572ad16-afeb-4634-a2c4-25f869c14abf",
   "metadata": {},
   "outputs": [
    {
     "data": {
      "text/plain": [
       "2"
      ]
     },
     "execution_count": 94,
     "metadata": {},
     "output_type": "execute_result"
    }
   ],
   "source": [
    "l1 = ['giriraj', 1, 2, 3, 4, 5, 'giriraj', 'gupta']\n",
    "element = 'giriraj'\n",
    "l1.count(element)\n",
    "   \n"
   ]
  },
  {
   "cell_type": "markdown",
   "id": "34b30454-7d99-4095-a2f0-1957c27814ed",
   "metadata": {},
   "source": [
    "10. Reverse the order of elements in a list."
   ]
  },
  {
   "cell_type": "code",
   "execution_count": 104,
   "id": "dd23edf4-a79c-44ff-9110-8a5673ff2ec4",
   "metadata": {},
   "outputs": [
    {
     "data": {
      "text/plain": [
       "['gupta', 'giriraj', 5, 4, 3, 2, 1, 'giriraj']"
      ]
     },
     "execution_count": 104,
     "metadata": {},
     "output_type": "execute_result"
    }
   ],
   "source": [
    "l1 = ['giriraj', 1, 2, 3, 4, 5, 'giriraj', 'gupta']\n",
    "l1[: : -1]"
   ]
  },
  {
   "cell_type": "markdown",
   "id": "bc3780f1-eaf9-4604-a4af-35021b74d3bd",
   "metadata": {},
   "source": [
    "11. Sort a list in ascending order."
   ]
  },
  {
   "cell_type": "code",
   "execution_count": 109,
   "id": "6f84992b-44ba-49fb-8981-04e3dd9b147c",
   "metadata": {},
   "outputs": [
    {
     "name": "stdout",
     "output_type": "stream",
     "text": [
      "[1, 2, 3, 5, 6, 7, 8, 9, 34, 78]\n"
     ]
    }
   ],
   "source": [
    "l1= [1, 2, 5, 6, 7, 3, 9, 78, 34, 8]\n",
    "l1.sort()\n",
    "print(l1)"
   ]
  },
  {
   "cell_type": "markdown",
   "id": "64ea6463-bf17-45d3-8304-4573ec729004",
   "metadata": {},
   "source": [
    "12. Sort a list in descending order."
   ]
  },
  {
   "cell_type": "code",
   "execution_count": 110,
   "id": "49ec2d1b-dd40-4aad-a0c9-b06fb74d08ea",
   "metadata": {},
   "outputs": [
    {
     "name": "stdout",
     "output_type": "stream",
     "text": [
      "[78, 34, 9, 8, 7, 6, 5, 3, 2, 1]\n"
     ]
    }
   ],
   "source": [
    "l1= [1, 2, 5, 6, 7, 3, 9, 78, 34, 8]\n",
    "l1.sort()\n",
    "print(l1[: : -1])"
   ]
  },
  {
   "cell_type": "markdown",
   "id": "84c90df4-44d6-458c-bd8a-1d5b9f10f074",
   "metadata": {},
   "source": [
    "13. Create a list of even numbers from 1 to 20."
   ]
  },
  {
   "cell_type": "code",
   "execution_count": 136,
   "id": "5d99f8d3-55c8-4bff-8fae-637a1e94b1bf",
   "metadata": {},
   "outputs": [
    {
     "name": "stdout",
     "output_type": "stream",
     "text": [
      "[2, 4, 6, 8, 10, 12, 14, 16, 18, 20]\n"
     ]
    }
   ],
   "source": [
    "even_numbers = [number for number in range(1, 21) \n",
    "                if number % 2 == 0]\n",
    "print (even_numbers)\n"
   ]
  },
  {
   "cell_type": "markdown",
   "id": "86ad961f-d7cc-45a4-a73d-5631ad526614",
   "metadata": {},
   "source": [
    "14. Create a list of odd numbers from 1 to 20."
   ]
  },
  {
   "cell_type": "code",
   "execution_count": 138,
   "id": "fbe712a7-319f-4e46-9614-c0e1931ddcb1",
   "metadata": {},
   "outputs": [
    {
     "data": {
      "text/plain": [
       "[1, 3, 5, 7, 9, 11, 13, 15, 17, 19]"
      ]
     },
     "execution_count": 138,
     "metadata": {},
     "output_type": "execute_result"
    }
   ],
   "source": [
    "list(range(1,21,2))"
   ]
  },
  {
   "cell_type": "markdown",
   "id": "306216bd-f415-4029-b23e-b7005bd05882",
   "metadata": {},
   "source": [
    "15. Find the sum of all elements in a list."
   ]
  },
  {
   "cell_type": "code",
   "execution_count": 143,
   "id": "2c332d1c-e6bd-48da-a00e-ae34564b0356",
   "metadata": {},
   "outputs": [
    {
     "data": {
      "text/plain": [
       "15"
      ]
     },
     "execution_count": 143,
     "metadata": {},
     "output_type": "execute_result"
    }
   ],
   "source": [
    "l1 = [1,2,3,4,5]\n",
    "sum(l1)\n"
   ]
  },
  {
   "cell_type": "markdown",
   "id": "9a92ee02-e8c5-4577-a02e-adfb6c3123b1",
   "metadata": {},
   "source": [
    "16. Find the maximum value in a list."
   ]
  },
  {
   "cell_type": "code",
   "execution_count": 145,
   "id": "1455c6f9-7b83-4042-bce7-ba6f852acb93",
   "metadata": {},
   "outputs": [
    {
     "data": {
      "text/plain": [
       "5"
      ]
     },
     "execution_count": 145,
     "metadata": {},
     "output_type": "execute_result"
    }
   ],
   "source": [
    "max(l1)"
   ]
  },
  {
   "cell_type": "markdown",
   "id": "f629b30d-98bb-4c2f-bf4f-4812b4073db2",
   "metadata": {},
   "source": [
    "17. Find the minimum value in a list."
   ]
  },
  {
   "cell_type": "code",
   "execution_count": 146,
   "id": "9df316cf-d2b3-4023-91a4-5b1684fb4d04",
   "metadata": {},
   "outputs": [
    {
     "data": {
      "text/plain": [
       "1"
      ]
     },
     "execution_count": 146,
     "metadata": {},
     "output_type": "execute_result"
    }
   ],
   "source": [
    "min(l1)"
   ]
  },
  {
   "cell_type": "markdown",
   "id": "fa032dcf-bd9a-4aae-836c-cfba1c38d279",
   "metadata": {},
   "source": [
    "18. Create a list of squares of numbers from 1 to 10."
   ]
  },
  {
   "cell_type": "code",
   "execution_count": 156,
   "id": "70f8f82f-4d52-4136-9f56-d951c29e09a8",
   "metadata": {},
   "outputs": [
    {
     "name": "stdout",
     "output_type": "stream",
     "text": [
      "[1, 4, 9, 16, 25, 36, 49, 64, 81, 100]\n"
     ]
    }
   ],
   "source": [
    "list(range(1,11))\n",
    "l1 = list(range(1,11))\n",
    "l1= [i**2 for i in l1]\n",
    "print (l1)\n",
    "                      \n"
   ]
  },
  {
   "cell_type": "markdown",
   "id": "ef4a5257-617c-466a-993c-9cf32bb34360",
   "metadata": {},
   "source": [
    "19. Create a list of random numbers."
   ]
  },
  {
   "cell_type": "code",
   "execution_count": 181,
   "id": "0fd5b620-5ba4-498b-b9bc-d4134afc4267",
   "metadata": {},
   "outputs": [
    {
     "name": "stdout",
     "output_type": "stream",
     "text": [
      "[7, 10, 4, 1, 12, 2, 11, 17, 19, 0]\n"
     ]
    }
   ],
   "source": [
    "import random\n",
    "\n",
    "random.shuffle(numbers)\n",
    "print (numbers)"
   ]
  },
  {
   "cell_type": "markdown",
   "id": "c4bcf58a-4ca2-4d9f-93ec-76c0480c0519",
   "metadata": {},
   "source": [
    "20. Remove duplicates from a list."
   ]
  },
  {
   "cell_type": "code",
   "execution_count": 206,
   "id": "51983788-17f1-4eaa-af60-b3a835dbd63b",
   "metadata": {},
   "outputs": [
    {
     "name": "stdout",
     "output_type": "stream",
     "text": [
      "[0, 1, 2, 3, 4, 7, 10, 11, 12, 17, 19]\n"
     ]
    }
   ],
   "source": [
    "l1 = [7, 3, 3, 4, 10, 4, 1, 12, 2, 11, 17, 19, 0]\n",
    "l2 = set(l1)\n",
    "l3 = list (l2)\n",
    "print(l3)"
   ]
  },
  {
   "cell_type": "markdown",
   "id": "26f590da-32c8-463b-a355-3709b67d4fe0",
   "metadata": {},
   "source": [
    "21. Find the common elements between two lists."
   ]
  },
  {
   "cell_type": "code",
   "execution_count": 214,
   "id": "5349d358-8672-4370-bdc9-afb03f7a7a01",
   "metadata": {},
   "outputs": [],
   "source": [
    "import collections"
   ]
  },
  {
   "cell_type": "code",
   "execution_count": 215,
   "id": "74b233ce-df41-423f-99ef-7e5567c6387c",
   "metadata": {},
   "outputs": [],
   "source": [
    "l1 = [1, 2, 3, 4, 5]\n",
    "l2 = [3, 4, 5, 6, 7]\n",
    "\n",
    "common_elements = collections.Counter(l1) & collections.Counter(l2)"
   ]
  },
  {
   "cell_type": "code",
   "execution_count": 216,
   "id": "91248940-5d61-45bc-981f-af3799b3324f",
   "metadata": {},
   "outputs": [
    {
     "name": "stdout",
     "output_type": "stream",
     "text": [
      "Counter({3: 1, 4: 1, 5: 1})\n"
     ]
    }
   ],
   "source": [
    "print (common_elements)"
   ]
  },
  {
   "cell_type": "markdown",
   "id": "ae78154d-45b4-44ef-9f94-ccc88d2209e9",
   "metadata": {},
   "source": [
    "22. Find the difference between two lists."
   ]
  },
  {
   "cell_type": "code",
   "execution_count": 3,
   "id": "e34c22af-de09-4fb5-b8bc-faec389240bd",
   "metadata": {},
   "outputs": [
    {
     "name": "stdout",
     "output_type": "stream",
     "text": [
      "['apple', 'cherry']\n"
     ]
    }
   ],
   "source": [
    "list1 = [\"apple\", \"banana\", \"cherry\", \"orange\"]\n",
    "list2 = [\"banana\", \"orange\", \"kiwi\"]\n",
    "result = list(set(list1) - set(list2))\n",
    "print(result)\n"
   ]
  },
  {
   "cell_type": "markdown",
   "id": "0a82becc-93da-4a68-9733-6c4ae87035e6",
   "metadata": {},
   "source": [
    "23. Merge two lists."
   ]
  },
  {
   "cell_type": "code",
   "execution_count": 4,
   "id": "cf9c0d60-ec58-4703-b753-3dd5998308af",
   "metadata": {},
   "outputs": [
    {
     "data": {
      "text/plain": [
       "[1, 2, 3, 4, 5, 6, 7, 8, 9, 10]"
      ]
     },
     "execution_count": 4,
     "metadata": {},
     "output_type": "execute_result"
    }
   ],
   "source": [
    "l1+l2"
   ]
  },
  {
   "cell_type": "markdown",
   "id": "48f36d86-390c-4f8f-adb2-4bf5f0e899bd",
   "metadata": {},
   "source": [
    "24. Multiply all elements in a list by 2."
   ]
  },
  {
   "cell_type": "code",
   "execution_count": 25,
   "id": "733d13b3-861d-4e84-bbdc-72d6b9ce334b",
   "metadata": {},
   "outputs": [
    {
     "name": "stdout",
     "output_type": "stream",
     "text": [
      "[2, 4, 6, 8, 10]\n"
     ]
    }
   ],
   "source": [
    "l1 = [1, 2, 3, 4, 5]\n",
    "l1 = [i * 2 for i in l1]\n",
    "print(l1)"
   ]
  },
  {
   "cell_type": "markdown",
   "id": "501aeef2-97b8-45dd-9e90-b47c55ee686a",
   "metadata": {},
   "source": [
    "25. Filter out all even numbers from a list."
   ]
  },
  {
   "cell_type": "code",
   "execution_count": 27,
   "id": "995d7a2a-8256-4273-870a-3af692ef9654",
   "metadata": {},
   "outputs": [
    {
     "name": "stdout",
     "output_type": "stream",
     "text": [
      "[2, 4, 6, 8]\n"
     ]
    }
   ],
   "source": [
    "l1= [2,3,4,5,6,7,8,9]\n",
    "even_numbers_list = [number for number in l1 \n",
    "                if number % 2 == 0]\n",
    "print (even_numbers_list)\n",
    "\n"
   ]
  },
  {
   "cell_type": "markdown",
   "id": "584877c2-0c15-42c7-9b6c-35dc36736dfa",
   "metadata": {},
   "source": [
    "26. Convert a list of strings to a list of integers."
   ]
  },
  {
   "cell_type": "code",
   "execution_count": 35,
   "id": "c37eeb8a-48dc-46cb-ac0e-e5f36464fb9c",
   "metadata": {},
   "outputs": [
    {
     "name": "stdout",
     "output_type": "stream",
     "text": [
      "[1, 2, 3, 4]\n"
     ]
    }
   ],
   "source": [
    "l1 = ['1','2','3','4']\n",
    "l1 = [int(i) for i in l1]\n",
    "print (l1)"
   ]
  },
  {
   "cell_type": "markdown",
   "id": "bb4368ca-d360-479e-a14a-81d4c59522ce",
   "metadata": {},
   "source": [
    "27. Convert a list of integers to a list of strings."
   ]
  },
  {
   "cell_type": "code",
   "execution_count": 36,
   "id": "8be2be73-f373-4eb0-a7ce-813b406aef2d",
   "metadata": {},
   "outputs": [
    {
     "name": "stdout",
     "output_type": "stream",
     "text": [
      "['1', '2', '3', '4', '5']\n"
     ]
    }
   ],
   "source": [
    "l1 = [1, 2, 3, 4, 5]\n",
    "l1 = [str(i) for i in l1]\n",
    "print (l1)"
   ]
  },
  {
   "cell_type": "markdown",
   "id": "0605bbe3-3d99-471f-8c88-1fa7dadac4f5",
   "metadata": {},
   "source": [
    "28. Flatten a nested list."
   ]
  },
  {
   "cell_type": "code",
   "execution_count": 60,
   "id": "31cae90a-9ff2-4b3d-9e4f-8d4ad40a5b0e",
   "metadata": {},
   "outputs": [
    {
     "name": "stdout",
     "output_type": "stream",
     "text": [
      "[1, 2, 3, 4, 5, 6, 7]\n"
     ]
    }
   ],
   "source": [
    "my_list = [[1], [2, 3], [4, 5, 6, 7]]\n",
    "\n",
    "flat_list = [num for sublist in my_list for num in sublist]\n",
    "print(flat_list)"
   ]
  },
  {
   "cell_type": "markdown",
   "id": "86308d34-3a01-420f-b9a5-7eacff85706a",
   "metadata": {},
   "source": [
    "30. Check if a list is sorted."
   ]
  },
  {
   "cell_type": "code",
   "execution_count": 67,
   "id": "f552a8c6-f019-43a5-942c-d33688a79925",
   "metadata": {},
   "outputs": [
    {
     "name": "stdout",
     "output_type": "stream",
     "text": [
      "the list is not sorted\n"
     ]
    }
   ],
   "source": [
    "list = [45, 2, 1, 4, 3, 6]\n",
    "list.sort()\n",
    "if list == list.sort():\n",
    "    print ('the list is sorted',list.sort())\n",
    "else:\n",
    "    print ('the list is not sorted')"
   ]
  },
  {
   "cell_type": "markdown",
   "id": "aa48351d-1c8f-4a25-9e83-2cf3ce73ab26",
   "metadata": {},
   "source": [
    "31. Rotate a list to the left by `n` positions."
   ]
  },
  {
   "cell_type": "code",
   "execution_count": 109,
   "id": "0f3f8628-4371-49ac-aeb3-53facd4a82c9",
   "metadata": {},
   "outputs": [
    {
     "name": "stdout",
     "output_type": "stream",
     "text": [
      "[5, 6, 1, 2, 4]\n"
     ]
    }
   ],
   "source": [
    "l1 = [1, 2, 4, 5, 6]\n",
    "l1 = l1[3:] + l1[:3]\n",
    "print (l1)"
   ]
  },
  {
   "cell_type": "markdown",
   "id": "c1afdf91-e8c5-4470-9c34-843359adbe2e",
   "metadata": {},
   "source": [
    "32. Rotate a list to the right by `n` positions."
   ]
  },
  {
   "cell_type": "code",
   "execution_count": 111,
   "id": "9885e9bf-7bd2-43c2-a7a3-79a4e8dd2ff6",
   "metadata": {},
   "outputs": [
    {
     "name": "stdout",
     "output_type": "stream",
     "text": [
      "[4, 5, 6, 1, 2]\n"
     ]
    }
   ],
   "source": [
    "l1 = l1[-3:] + l1[:-3]\n",
    "print (l1)"
   ]
  },
  {
   "cell_type": "markdown",
   "id": "cda628d1-fa14-40a8-b7fa-8158ed780a22",
   "metadata": {},
   "source": [
    "33. Create a list of prime numbers up to 50."
   ]
  },
  {
   "cell_type": "code",
   "execution_count": 1,
   "id": "71bd1019-356b-486d-abde-4485e3861be5",
   "metadata": {},
   "outputs": [
    {
     "name": "stdout",
     "output_type": "stream",
     "text": [
      "[2, 3, 5, 7, 11, 13, 17, 19, 23, 29, 31, 37, 41, 43, 47]\n"
     ]
    }
   ],
   "source": [
    "prime_numbers = [2]\n",
    "for i in range(3, 51, 2):\n",
    "  is_prime = True\n",
    "  for j in range(3, int(i ** 0.5) + 1, 2):\n",
    "    if i % j == 0:\n",
    "      is_prime = False\n",
    "      break\n",
    "  if is_prime:\n",
    "    prime_numbers.append(i)\n",
    "print(prime_numbers)"
   ]
  },
  {
   "cell_type": "markdown",
   "id": "9c59937f-e8d3-417e-96c5-d1a9b0f1859c",
   "metadata": {},
   "source": [
    "34. Split a list into chunks of size `n`."
   ]
  },
  {
   "cell_type": "code",
   "execution_count": 9,
   "id": "374f9306-2d54-4b0d-8588-4b3d11b03cbe",
   "metadata": {},
   "outputs": [
    {
     "name": "stdout",
     "output_type": "stream",
     "text": [
      "First half: [0, 1, 2, 3, 4]\n",
      "Second half: [5, 6, 7, 8, 9, 10]\n"
     ]
    }
   ],
   "source": [
    "l1 = [0, 1, 2, 3, 4, 5, 6, 7, 8, 9 , 10]\n",
    "first_half = l1[:5]\n",
    "second_half = l1[5:]\n",
    "print(\"First half:\", first_half)\n",
    "print(\"Second half:\", second_half)\n"
   ]
  },
  {
   "cell_type": "markdown",
   "id": "4afc76ee-1bc8-4766-bb76-eea4e7265e5e",
   "metadata": {},
   "source": [
    "35. Find the second largest number in a list."
   ]
  },
  {
   "cell_type": "code",
   "execution_count": 26,
   "id": "22c2c892-4675-4f76-b1be-1f0803fe608b",
   "metadata": {},
   "outputs": [
    {
     "name": "stdout",
     "output_type": "stream",
     "text": [
      "The second largest number is 56\n"
     ]
    }
   ],
   "source": [
    "l1 = [45, 56, 78, 3, 49, 0]\n",
    "\n",
    "l1 = [i for i in l1\n",
    "     if 49 < i < 78]\n",
    "\n",
    "i = max(l1)\n",
    "\n",
    "print('The second largest number is', i)"
   ]
  },
  {
   "cell_type": "markdown",
   "id": "599d65c8-0c5d-41a8-a1b7-2792a815268b",
   "metadata": {},
   "source": [
    "36. Replace every element in a list with its square."
   ]
  },
  {
   "cell_type": "code",
   "execution_count": 61,
   "id": "8f070aca-b9b0-4a18-a7d3-915eca296e74",
   "metadata": {},
   "outputs": [
    {
     "name": "stdout",
     "output_type": "stream",
     "text": [
      "[9, 25, 36, 64, 81]\n"
     ]
    }
   ],
   "source": [
    "l1 = [3, 5, 6, 8, 9]\n",
    "l1 = [i ** 2 for i in l1]\n",
    "print(l1)"
   ]
  },
  {
   "cell_type": "markdown",
   "id": "045fedba-d44e-413c-a767-8871edb9524b",
   "metadata": {},
   "source": [
    "37. Convert a list to a dictionary where list elements become keys and their\n",
    "indices become values."
   ]
  },
  {
   "cell_type": "code",
   "execution_count": 65,
   "id": "09bd1ba2-0883-4e0d-a608-ab98f6606e2a",
   "metadata": {},
   "outputs": [
    {
     "data": {
      "text/plain": [
       "list[dict_values(['giriraj', ['datascience', 'bigdata', 'data analytics'], 334])]"
      ]
     },
     "execution_count": 65,
     "metadata": {},
     "output_type": "execute_result"
    }
   ],
   "source": [
    "d1={\"name\" : \"giriraj\", \"subject\" :[\"datascience\" , \"bigdata\",\"data analytics\"],\"number\" :334}\n",
    "d1.keys()\n",
    "d1.values()\n",
    "list[d1.values()]\n"
   ]
  },
  {
   "cell_type": "markdown",
   "id": "ea003273-c6a9-49f6-a726-f5673e09dd00",
   "metadata": {},
   "source": [
    "38. Shuffle the elements of a list randomly."
   ]
  },
  {
   "cell_type": "code",
   "execution_count": 75,
   "id": "2c5239e8-66ee-4fcf-a03e-d3e15cfb4735",
   "metadata": {},
   "outputs": [
    {
     "name": "stdout",
     "output_type": "stream",
     "text": [
      "[2, 4, 5, 3, 1]\n"
     ]
    }
   ],
   "source": [
    "import random\n",
    "l1 = [1, 2, 3, 4, 5]\n",
    "random.shuffle(l1)\n",
    "print(l1)"
   ]
  },
  {
   "cell_type": "markdown",
   "id": "2875ddcd-25f5-4a2d-aa9e-51ca05d03e01",
   "metadata": {},
   "source": [
    "39. Create a list of the first 10 factorial numbers."
   ]
  },
  {
   "cell_type": "code",
   "execution_count": 93,
   "id": "6cfe1b29-0ee8-48d0-8ba4-32de7c32925f",
   "metadata": {},
   "outputs": [
    {
     "name": "stdout",
     "output_type": "stream",
     "text": [
      "[1, 1, 2, 6, 24, 120, 720, 5040, 40320, 362880]\n"
     ]
    }
   ],
   "source": [
    "import math\n",
    "x = 10\n",
    "factorial_list = [math.factorial(i) for i in range(10)]\n",
    "print (factorial_list)"
   ]
  },
  {
   "cell_type": "markdown",
   "id": "557719dd-2501-47e0-9447-b52609694a10",
   "metadata": {},
   "source": [
    "40. Check if two lists have at least one element in common."
   ]
  },
  {
   "cell_type": "code",
   "execution_count": 109,
   "id": "dbe86ef4-fec9-451d-846f-b0143ac53410",
   "metadata": {},
   "outputs": [
    {
     "name": "stdout",
     "output_type": "stream",
     "text": [
      "this is the only common element found True\n",
      "nope this aint the common element False\n",
      "nope this aint the common element False\n",
      "nope this aint the common element False\n",
      "nope this aint the common element False\n"
     ]
    }
   ],
   "source": [
    "l1 = [1, 2, 3, 4, 5]\n",
    "l2 = [1, 6, 7, 8, 9]\n",
    "for element in l1:\n",
    "    if element in l2:\n",
    "        print('this is the only common element found',True)\n",
    "    else:\n",
    "        print('nope this aint the common element',False)"
   ]
  },
  {
   "cell_type": "markdown",
   "id": "7376958b-361b-45f3-8b86-9db5fafd7cf7",
   "metadata": {},
   "source": [
    "41. Remove all elements from a list."
   ]
  },
  {
   "cell_type": "code",
   "execution_count": 9,
   "id": "7e1479a9-b29b-427c-8579-0e27720c0593",
   "metadata": {},
   "outputs": [],
   "source": [
    "l1= [1, 2, 3, 4, 5]\n",
    "l1.clear()"
   ]
  },
  {
   "cell_type": "code",
   "execution_count": 10,
   "id": "2b1ebb8d-7bc9-4b88-8efd-447d438ab69a",
   "metadata": {},
   "outputs": [
    {
     "data": {
      "text/plain": [
       "[]"
      ]
     },
     "execution_count": 10,
     "metadata": {},
     "output_type": "execute_result"
    }
   ],
   "source": [
    "l1"
   ]
  },
  {
   "cell_type": "markdown",
   "id": "b417e065-5cae-4af2-b43e-49f21ec5f5cd",
   "metadata": {},
   "source": [
    "42. Replace negative numbers in a list with 0."
   ]
  },
  {
   "cell_type": "code",
   "execution_count": 31,
   "id": "3710fe34-5aa1-44a1-8a3a-fff768fd0626",
   "metadata": {},
   "outputs": [
    {
     "name": "stdout",
     "output_type": "stream",
     "text": [
      "[0, 2, 0, 5, 6]\n"
     ]
    }
   ],
   "source": [
    "def replace_negative_numbers(list1):\n",
    "  new_list = []\n",
    "  for value in list1:\n",
    "    if value < 0:\n",
    "      new_list.append(0)\n",
    "    else:\n",
    "      new_list.append(value)\n",
    "  return new_list\n",
    "\n",
    "list1 = [-1, 2, -4, 5, 6]\n",
    "new_list = replace_negative_numbers(list1)\n",
    "print(new_list)"
   ]
  },
  {
   "cell_type": "markdown",
   "id": "9c1742e7-812e-4ab2-832a-be76a0e151be",
   "metadata": {},
   "source": [
    "43. Convert a string into a list of words."
   ]
  },
  {
   "cell_type": "code",
   "execution_count": 30,
   "id": "c257e29b-3309-44df-9641-645280d7af8a",
   "metadata": {},
   "outputs": [
    {
     "data": {
      "text/plain": [
       "['this', 'is', 'an', 'example', 'string']"
      ]
     },
     "execution_count": 30,
     "metadata": {},
     "output_type": "execute_result"
    }
   ],
   "source": [
    "string = 'this is an example string'\n",
    "string.split()"
   ]
  },
  {
   "cell_type": "code",
   "execution_count": 31,
   "id": "9c342d0b-1575-4ccf-9b6c-9d12bbc2a4bd",
   "metadata": {},
   "outputs": [],
   "source": [
    "l2 = string.split()"
   ]
  },
  {
   "cell_type": "code",
   "execution_count": 32,
   "id": "6682654d-b994-4533-ba99-00778ebd6d07",
   "metadata": {},
   "outputs": [
    {
     "data": {
      "text/plain": [
       "list"
      ]
     },
     "execution_count": 32,
     "metadata": {},
     "output_type": "execute_result"
    }
   ],
   "source": [
    "type (l2)"
   ]
  },
  {
   "cell_type": "markdown",
   "id": "a69babc9-f9e5-4b07-872b-fcdde9848d16",
   "metadata": {},
   "source": [
    "44. Convert a list of words into a string."
   ]
  },
  {
   "cell_type": "code",
   "execution_count": 4,
   "id": "0d2614ae-a0ca-4d47-9002-2b58e46749c2",
   "metadata": {},
   "outputs": [
    {
     "name": "stdout",
     "output_type": "stream",
     "text": [
      "my name is giriraj gupta\n"
     ]
    }
   ],
   "source": [
    "l2 = ['my','name','is','giriraj','gupta']\n",
    "string = ' '.join(l2)\n",
    "print(string)"
   ]
  },
  {
   "cell_type": "markdown",
   "id": "580666cd-bd42-44e5-9f9f-4ed76014d342",
   "metadata": {},
   "source": [
    "45. Create a list of the first `n` powers of 2."
   ]
  },
  {
   "cell_type": "code",
   "execution_count": 7,
   "id": "38f4bb0d-faa1-48dc-8fe2-d67afaa1f220",
   "metadata": {},
   "outputs": [
    {
     "data": {
      "text/plain": [
       "[1, 2, 4, 8, 16, 32, 64, 128, 256, 512]"
      ]
     },
     "execution_count": 7,
     "metadata": {},
     "output_type": "execute_result"
    }
   ],
   "source": [
    "[2 ** i for i in range(10)]"
   ]
  },
  {
   "cell_type": "markdown",
   "id": "12b7507a-bf83-4194-8572-f911323af71c",
   "metadata": {},
   "source": [
    "46. Find the longest string in a list of strings."
   ]
  },
  {
   "cell_type": "code",
   "execution_count": 18,
   "id": "abdb67ec-cd60-48e5-9c9b-41d626ee6ca0",
   "metadata": {},
   "outputs": [
    {
     "data": {
      "text/plain": [
       "'giriraj'"
      ]
     },
     "execution_count": 18,
     "metadata": {},
     "output_type": "execute_result"
    }
   ],
   "source": [
    "l2 = ['my','name','is','giriraj','gupta']\n",
    "max(l2, key=len)"
   ]
  },
  {
   "cell_type": "markdown",
   "id": "24900758-8e5a-4061-91c6-f5dc915943c3",
   "metadata": {},
   "source": [
    "47. Find the shortest string in a list of strings."
   ]
  },
  {
   "cell_type": "code",
   "execution_count": 19,
   "id": "bbdb7f86-13d4-4851-bdf7-a951dd856884",
   "metadata": {},
   "outputs": [
    {
     "data": {
      "text/plain": [
       "'my'"
      ]
     },
     "execution_count": 19,
     "metadata": {},
     "output_type": "execute_result"
    }
   ],
   "source": [
    "l2 = ['my','name','is','giriraj','gupta']\n",
    "min(l2, key=len)"
   ]
  },
  {
   "cell_type": "markdown",
   "id": "700fb487-e088-4020-99a8-eab25713b2c0",
   "metadata": {},
   "source": [
    "48. Create a list of the first `n` triangular numbers."
   ]
  },
  {
   "cell_type": "code",
   "execution_count": 28,
   "id": "5a8b2d06-725b-4cb0-9d93-4047dbee148a",
   "metadata": {},
   "outputs": [
    {
     "name": "stdout",
     "output_type": "stream",
     "text": [
      "1 3 6 10 15 21 28 36 45 55 66 78 91 105 120 136 153 171 190 210 "
     ]
    }
   ],
   "source": [
    "def triangular_series(n):\n",
    "  \n",
    "     for i in range(1, n + 1):\n",
    "         print( i*(i+1)//2,end=' ')\n",
    "n = 20\n",
    "triangular_series(n)     \n",
    "        "
   ]
  },
  {
   "cell_type": "markdown",
   "id": "f7a46bdc-187b-43a1-9f07-513ce4159d8c",
   "metadata": {},
   "source": [
    "49. Check if a list contains another list as a subsequence."
   ]
  },
  {
   "cell_type": "code",
   "execution_count": 29,
   "id": "ed88f950-a85f-4f22-8e4f-775bd6219d43",
   "metadata": {},
   "outputs": [
    {
     "name": "stdout",
     "output_type": "stream",
     "text": [
      "Original list : [9, 4, 5, 8, 10]\n",
      "Original sub list : [10, 5, 4]\n",
      "Yes, list is subset of other.\n"
     ]
    }
   ],
   "source": [
    "test_list = [9, 4, 5, 8, 10]\n",
    "sub_list = [10, 5, 4]\n",
    " \n",
    "print(\"Original list : \" + str(test_list))\n",
    "print(\"Original sub list : \" + str(sub_list))\n",
    "flag = 0\n",
    "if(all(x in test_list for x in sub_list)):\n",
    "    flag = 1\n",
    "if (flag):\n",
    "    print(\"Yes, list is subset of other.\")\n",
    "else:\n",
    "    print(\"No, list is not subset of other.\")    "
   ]
  },
  {
   "cell_type": "markdown",
   "id": "ce81f61b-cf37-40a5-b7a6-1109acdc17f9",
   "metadata": {},
   "source": [
    "50. Swap two elements in a list by their indices."
   ]
  },
  {
   "cell_type": "code",
   "execution_count": 30,
   "id": "882d2389-4d7f-4a57-ba7e-4b8708332ec2",
   "metadata": {},
   "outputs": [
    {
     "name": "stdout",
     "output_type": "stream",
     "text": [
      "[19, 65, 23, 90]\n"
     ]
    }
   ],
   "source": [
    "def swapPositions(lis, pos1, pos2):\n",
    "    temp=lis[pos1]\n",
    "    lis[pos1]=lis[pos2]\n",
    "    lis[pos2]=temp\n",
    "    return lis\n",
    "List = [23, 65, 19, 90]\n",
    "pos1, pos2 = 1, 3\n",
    " \n",
    "print(swapPositions(List, pos1-1, pos2-1))"
   ]
  },
  {
   "cell_type": "raw",
   "id": "9316d760-cc24-4f29-827b-9fe0fc061195",
   "metadata": {},
   "source": [
    "# Tuple Based Practice Problem :"
   ]
  },
  {
   "cell_type": "markdown",
   "id": "1c0624a2-9535-4555-89ea-6ece93d52a08",
   "metadata": {},
   "source": [
    "1. Create a tuple with integers from 1 to 5."
   ]
  },
  {
   "cell_type": "code",
   "execution_count": 32,
   "id": "77ff2a9d-c7c5-414e-abb9-771ba8da5534",
   "metadata": {},
   "outputs": [
    {
     "data": {
      "text/plain": [
       "(1, 2, 3, 4, 5)"
      ]
     },
     "execution_count": 32,
     "metadata": {},
     "output_type": "execute_result"
    }
   ],
   "source": [
    "tuple (range(1,6))"
   ]
  },
  {
   "cell_type": "markdown",
   "id": "077c496b-e913-4f74-8852-8a056a2dc4d3",
   "metadata": {},
   "source": [
    "2. Access the third element of a tuple."
   ]
  },
  {
   "cell_type": "code",
   "execution_count": 34,
   "id": "c0a61ec2-76e7-4204-8100-20f287eb3d54",
   "metadata": {},
   "outputs": [
    {
     "data": {
      "text/plain": [
       "4"
      ]
     },
     "execution_count": 34,
     "metadata": {},
     "output_type": "execute_result"
    }
   ],
   "source": [
    "t = (1, 2, 3, 4, 5)\n",
    "t1 = list (t)\n",
    "t1[3]"
   ]
  },
  {
   "cell_type": "markdown",
   "id": "04acd2ed-4816-49b4-a12f-7e93f241cff4",
   "metadata": {},
   "source": [
    "3. Find the length of a tuple without using the `len()` function."
   ]
  },
  {
   "cell_type": "code",
   "execution_count": 11,
   "id": "88573ce0-8468-40ae-9e11-eeb33297830c",
   "metadata": {},
   "outputs": [
    {
     "data": {
      "text/plain": [
       "5"
      ]
     },
     "execution_count": 11,
     "metadata": {},
     "output_type": "execute_result"
    }
   ],
   "source": [
    "t = (1, 2, 3, 4, 5)\n",
    "l1 = list (t)\n",
    "max (l1)"
   ]
  },
  {
   "cell_type": "markdown",
   "id": "b2754610-5803-44b8-ae78-36160a4e58ae",
   "metadata": {},
   "source": [
    "4. Count the occurrences of an element in a tuple."
   ]
  },
  {
   "cell_type": "code",
   "execution_count": 12,
   "id": "5f64e1b4-9b28-4829-bca5-91f5cb9dcd91",
   "metadata": {},
   "outputs": [
    {
     "data": {
      "text/plain": [
       "2"
      ]
     },
     "execution_count": 12,
     "metadata": {},
     "output_type": "execute_result"
    }
   ],
   "source": [
    "t = ('giriraj', 1, 2, 3, 4, 5, 'giriraj', 'gupta')\n",
    "l1 = list (t)\n",
    "element = 'giriraj'\n",
    "l1.count(element)\n",
    "   "
   ]
  },
  {
   "cell_type": "markdown",
   "id": "e3613932-1533-4608-91cf-908070cf3019",
   "metadata": {},
   "source": [
    "5. Find the index of the first occurrence of an element in a tuple."
   ]
  },
  {
   "cell_type": "code",
   "execution_count": 14,
   "id": "d00a1440-de22-41f1-9131-ba9fad80d64e",
   "metadata": {},
   "outputs": [
    {
     "name": "stdout",
     "output_type": "stream",
     "text": [
      "the index of the element is 7\n"
     ]
    }
   ],
   "source": [
    "t = ('giriraj', 1, 2, 3, 4, 5, 'giriraj', 'gupta')\n",
    "l1 = list (t)\n",
    "element = 'gupta'\n",
    "if element in l1[0]:\n",
    "    print('element in first index')\n",
    "    element = element + 1\n",
    "else:\n",
    "    print('the index of the element is', l1.index(element))\n"
   ]
  },
  {
   "cell_type": "markdown",
   "id": "ec756419-c2cf-4bfa-b14c-8b1f107151c5",
   "metadata": {},
   "source": [
    "6. Check if an element exists in a tuple."
   ]
  },
  {
   "cell_type": "code",
   "execution_count": 15,
   "id": "a4fa1e28-3bcc-4428-914a-317f9790502a",
   "metadata": {},
   "outputs": [
    {
     "name": "stdout",
     "output_type": "stream",
     "text": [
      "yes the number exist\n"
     ]
    }
   ],
   "source": [
    "t = (1, 2, 3, 4)\n",
    "l1 = list (t)\n",
    "num2 = 2\n",
    "if num2 in l1:\n",
    "    print ('yes the number exist')\n",
    "else:\n",
    "    print ('number is not present in the list')\n",
    "    "
   ]
  },
  {
   "cell_type": "markdown",
   "id": "f9559026-5195-4fd0-abdf-2ec15c4971f3",
   "metadata": {},
   "source": [
    "Convert a tuple to a list."
   ]
  },
  {
   "cell_type": "code",
   "execution_count": 18,
   "id": "e1b68d1f-e56d-4f78-9441-4adb4c121d41",
   "metadata": {},
   "outputs": [
    {
     "data": {
      "text/plain": [
       "list"
      ]
     },
     "execution_count": 18,
     "metadata": {},
     "output_type": "execute_result"
    }
   ],
   "source": [
    "t = (1, 2, 3, 4)\n",
    "t = list (t)\n",
    "type (t)"
   ]
  },
  {
   "cell_type": "markdown",
   "id": "cb18395d-dea3-4aec-88b9-0b9cb30f48d8",
   "metadata": {},
   "source": [
    "8. Convert a list to a tuple."
   ]
  },
  {
   "cell_type": "code",
   "execution_count": 20,
   "id": "5e74ab3d-4a5e-4ff7-9155-24f2745ebed2",
   "metadata": {},
   "outputs": [
    {
     "data": {
      "text/plain": [
       "tuple"
      ]
     },
     "execution_count": 20,
     "metadata": {},
     "output_type": "execute_result"
    }
   ],
   "source": [
    "l1 = [1, 2, 3, 4, 'giriraj']\n",
    "l1 = tuple (l1)\n",
    "type (l1)"
   ]
  },
  {
   "cell_type": "markdown",
   "id": "b9364c66-9b56-4549-8397-48941049d6af",
   "metadata": {},
   "source": [
    "9. Unpack the elements of a tuple into variables."
   ]
  },
  {
   "cell_type": "code",
   "execution_count": 22,
   "id": "b6b90a3d-7b44-418e-8488-4e7c855ad939",
   "metadata": {},
   "outputs": [
    {
     "name": "stdout",
     "output_type": "stream",
     "text": [
      "the unpacked variables are 1 2 3 giriraj\n"
     ]
    }
   ],
   "source": [
    "t = (1, 2, 3, 'giriraj')\n",
    "l1 = list (t)\n",
    "i = l1[0]\n",
    "j = l1[1]\n",
    "k = l1[2]\n",
    "l = l1[3]\n",
    "print ('the unpacked variables are', i, j, k, l)"
   ]
  },
  {
   "cell_type": "markdown",
   "id": "c7d0a9bd-13e4-44f2-9591-6077948b177e",
   "metadata": {},
   "source": [
    "10. Create a tuple of even numbers from 1 to 10."
   ]
  },
  {
   "cell_type": "code",
   "execution_count": 26,
   "id": "53394eac-181f-4fb3-b6f1-3af7ee4e0db8",
   "metadata": {},
   "outputs": [
    {
     "name": "stdout",
     "output_type": "stream",
     "text": [
      "the created tuple is (2, 4, 6, 8, 10)\n"
     ]
    }
   ],
   "source": [
    "l1 = [i for i in range(2,11) if i % 2 == 0 ]\n",
    "l1 = tuple (l1)\n",
    "print ('the created tuple is',l1)"
   ]
  },
  {
   "cell_type": "markdown",
   "id": "05d37283-6e53-41d2-ab9f-0f6a3a91d05c",
   "metadata": {},
   "source": [
    "11. Create a tuple of odd numbers from 1 to 10."
   ]
  },
  {
   "cell_type": "code",
   "execution_count": 29,
   "id": "38f93490-7bc9-4101-a63b-5b09b979bfe0",
   "metadata": {},
   "outputs": [
    {
     "name": "stdout",
     "output_type": "stream",
     "text": [
      "(1, 3, 5, 7, 9)\n"
     ]
    }
   ],
   "source": [
    "l1 = tuple (range(1 , 11 , 2))\n",
    "print (l1)"
   ]
  },
  {
   "cell_type": "markdown",
   "id": "c946cb2f-2ff5-4880-aaa2-c13f2a1e63d9",
   "metadata": {},
   "source": [
    "12. Concatenate two tuples."
   ]
  },
  {
   "cell_type": "code",
   "execution_count": 34,
   "id": "d416671d-dc9d-43dc-83fe-1b26537fb5b9",
   "metadata": {},
   "outputs": [
    {
     "name": "stdout",
     "output_type": "stream",
     "text": [
      "python is super fun but only when you learn to think out of the box\n"
     ]
    }
   ],
   "source": [
    "t1 = ('python', 'is' ,'super' ,'fun')\n",
    "t2 = ('but' ,'only', 'when', 'you' ,'learn', 'to', 'think', 'out', 'of', 'the', 'box')\n",
    "t3 = ' '.join(t1+t2)\n",
    "print (t3)\n"
   ]
  },
  {
   "cell_type": "markdown",
   "id": "1a53fea8-c824-4ba9-bea6-1455b24d6d55",
   "metadata": {},
   "source": [
    "13. Repeat a tuple three times."
   ]
  },
  {
   "cell_type": "code",
   "execution_count": 39,
   "id": "af57ca4a-a6a5-41fe-b974-5cbf55684eda",
   "metadata": {},
   "outputs": [
    {
     "name": "stdout",
     "output_type": "stream",
     "text": [
      "python is super fun python is super fun python is super fun\n"
     ]
    }
   ],
   "source": [
    "t1 = ('python', 'is' ,'super' ,'fun')\n",
    "t1*3\n",
    "t2 = ' '.join(t1*3)\n",
    "print (t2)"
   ]
  },
  {
   "cell_type": "markdown",
   "id": "853551e5-9b98-421b-b6cf-b342d09b5d71",
   "metadata": {},
   "source": [
    "14. Check if a tuple is empty."
   ]
  },
  {
   "cell_type": "code",
   "execution_count": 51,
   "id": "7818f24b-2ad6-4905-b518-57bd08cfae3e",
   "metadata": {},
   "outputs": [
    {
     "name": "stdout",
     "output_type": "stream",
     "text": [
      "emptiness of the tuple is: False\n"
     ]
    }
   ],
   "source": [
    "t1 = ('python', 'is' ,'super' ,'fun')\n",
    "t1 = (i for i in t1 if i == 0)\n",
    "print ('emptiness of the tuple is:',t1 == ())"
   ]
  },
  {
   "cell_type": "markdown",
   "id": "ed7fd29e-c774-4dbb-9746-f7bc5c79fe50",
   "metadata": {},
   "source": [
    "15. Create a nested tuple."
   ]
  },
  {
   "cell_type": "code",
   "execution_count": 63,
   "id": "830a7cae-680b-4b83-a010-1f9d87d27626",
   "metadata": {},
   "outputs": [
    {
     "name": "stdout",
     "output_type": "stream",
     "text": [
      "('python', 'is', ('but', 'only', 'when', 'you', 'learn', 'to', 'think', 'out', 'of', 'the', 'box'), 'super', 'fun')\n"
     ]
    }
   ],
   "source": [
    "t = ('python', 'is' , ' ','super' ,'fun')\n",
    "t = list (t)\n",
    "t1 = ('but' ,'only', 'when', 'you' ,'learn', 'to', 'think', 'out', 'of', 'the', 'box')\n",
    "t[2] = t1\n",
    "t1 = tuple (t1)\n",
    "t = tuple (t)\n",
    "print (t)\n"
   ]
  },
  {
   "cell_type": "markdown",
   "id": "b9903fd9-4ef0-4a04-91de-1b973449fbb5",
   "metadata": {},
   "source": [
    "16. Access the first element of a nested tuple."
   ]
  },
  {
   "cell_type": "code",
   "execution_count": 66,
   "id": "08410d3e-9e12-4621-a458-f45a4cb1bcf0",
   "metadata": {},
   "outputs": [
    {
     "data": {
      "text/plain": [
       "'python'"
      ]
     },
     "execution_count": 66,
     "metadata": {},
     "output_type": "execute_result"
    }
   ],
   "source": [
    "t = ('python', 'is', ('but', 'only', 'when', 'you', 'learn', 'to', 'think', 'out', 'of', 'the', 'box'), 'super', 'fun')\n",
    "t = list (t)\n",
    "t[0]"
   ]
  },
  {
   "cell_type": "markdown",
   "id": "d9818d8f-ff4d-4d6a-bac1-e9e38e076f63",
   "metadata": {},
   "source": [
    "17. Create a tuple with a single element."
   ]
  },
  {
   "cell_type": "code",
   "execution_count": 69,
   "id": "2f248937-b840-47b9-8b5f-1bf2ea069334",
   "metadata": {},
   "outputs": [],
   "source": [
    "t = ('element')\n",
    "t = tuple (t)"
   ]
  },
  {
   "cell_type": "markdown",
   "id": "b73b5a5a-6bd0-45f5-af23-68164e7991be",
   "metadata": {},
   "source": [
    "22. Find the minimum value in a tuple."
   ]
  },
  {
   "cell_type": "code",
   "execution_count": 71,
   "id": "54b1f377-1d0c-46c2-8f59-9faf705b591b",
   "metadata": {},
   "outputs": [
    {
     "data": {
      "text/plain": [
       "1"
      ]
     },
     "execution_count": 71,
     "metadata": {},
     "output_type": "execute_result"
    }
   ],
   "source": [
    "t = (1, 2, 3, 4, 5, 6)\n",
    "min (t)"
   ]
  },
  {
   "cell_type": "markdown",
   "id": "3ba2cc4c-0cf8-42b3-8bb4-01467a3a1aa9",
   "metadata": {},
   "source": [
    "18. Compare two tuples."
   ]
  },
  {
   "cell_type": "code",
   "execution_count": 80,
   "id": "a3e2c5f7-26aa-4da9-a55b-48b272e5c6f7",
   "metadata": {},
   "outputs": [
    {
     "name": "stdout",
     "output_type": "stream",
     "text": [
      "Tuple1 is less than Tuple2\n"
     ]
    }
   ],
   "source": [
    "tuple1 = (1, 2, 3)\n",
    "tuple2 = (4, 5, 6)\n",
    "\n",
    "if tuple1 < tuple2:\n",
    "    print(\"Tuple1 is less than Tuple2\")\n",
    "elif tuple1 > tuple2:\n",
    "    print(\"Tuple1 is greater than Tuple2\")\n",
    "elif tuple1 == tuple2:\n",
    "    print(\"Tuple1 is equal to Tuple2\")\n",
    "\n"
   ]
  },
  {
   "cell_type": "markdown",
   "id": "5244ce15-32d9-4325-9dce-78c60107091b",
   "metadata": {},
   "source": [
    "19. Delete a tuple."
   ]
  },
  {
   "cell_type": "code",
   "execution_count": 88,
   "id": "27810a7b-87e7-4dab-942e-02d716e76102",
   "metadata": {},
   "outputs": [
    {
     "ename": "NameError",
     "evalue": "name 't1' is not defined",
     "output_type": "error",
     "traceback": [
      "\u001b[0;31m---------------------------------------------------------------------------\u001b[0m",
      "\u001b[0;31mNameError\u001b[0m                                 Traceback (most recent call last)",
      "Cell \u001b[0;32mIn[88], line 1\u001b[0m\n\u001b[0;32m----> 1\u001b[0m \u001b[43mt1\u001b[49m \n\u001b[1;32m      2\u001b[0m t1 \u001b[38;5;241m=\u001b[39m \u001b[38;5;28mlist\u001b[39m (t1)\n\u001b[1;32m      3\u001b[0m \u001b[38;5;28;01mdel\u001b[39;00m(t1)\n",
      "\u001b[0;31mNameError\u001b[0m: name 't1' is not defined"
     ]
    }
   ],
   "source": [
    "t1 \n",
    "t1 = list (t1)\n",
    "del(t1)"
   ]
  },
  {
   "cell_type": "markdown",
   "id": "798a1354-3f9d-49eb-a9e2-9ed1b75ee76c",
   "metadata": {},
   "source": [
    "20. Slice a tuple."
   ]
  },
  {
   "cell_type": "code",
   "execution_count": 111,
   "id": "9cc464f5-6181-4a15-8d4f-0ae249f21737",
   "metadata": {},
   "outputs": [
    {
     "name": "stdout",
     "output_type": "stream",
     "text": [
      "('python', 'basics')\n"
     ]
    }
   ],
   "source": [
    "t = ('python','basics','is', 'fun')\n",
    "t = list(t)\n",
    "t = tuple (t[:2])\n",
    "print (t)\n"
   ]
  },
  {
   "cell_type": "markdown",
   "id": "601e7d12-ff8a-48a5-82f6-513cba1cdcd1",
   "metadata": {},
   "source": [
    "21. Find the maximum value in a tuple."
   ]
  },
  {
   "cell_type": "code",
   "execution_count": null,
   "id": "b99d03c0-5302-4c73-a55c-3223463f6b65",
   "metadata": {},
   "outputs": [],
   "source": [
    "t= (1, 2, 3, 4, 5, 6)\n"
   ]
  },
  {
   "cell_type": "code",
   "execution_count": null,
   "id": "5c22c60e-0574-49a0-8c4f-ef1d2a523b88",
   "metadata": {},
   "outputs": [],
   "source": [
    "max(t)"
   ]
  },
  {
   "cell_type": "code",
   "execution_count": 113,
   "id": "71cc5c42-1cf6-4d81-9049-c9e5e60d6a97",
   "metadata": {},
   "outputs": [
    {
     "name": "stdout",
     "output_type": "stream",
     "text": [
      "python\n"
     ]
    }
   ],
   "source": [
    "print (max(t))"
   ]
  },
  {
   "cell_type": "markdown",
   "id": "acb59b97-de1e-4e55-a62a-2543aeec3c27",
   "metadata": {},
   "source": [
    "23. Convert a string to a tuple of characters."
   ]
  },
  {
   "cell_type": "code",
   "execution_count": 152,
   "id": "911f9776-49fb-4eae-9f54-c92c478ed124",
   "metadata": {},
   "outputs": [
    {
     "data": {
      "text/plain": [
       "('p', 'y', 't', 'h', 'o', 'n', 'p', 'y', 't', 'h', 'o', 'n')"
      ]
     },
     "execution_count": 152,
     "metadata": {},
     "output_type": "execute_result"
    }
   ],
   "source": [
    "s1 = 'python'\n",
    "s1 = list (s1)\n",
    "s1.extend ('python')\n",
    "tuple (s1)"
   ]
  },
  {
   "cell_type": "markdown",
   "id": "114eb081-132f-42d0-a48c-ce2782e7d3b7",
   "metadata": {},
   "source": [
    "24. Convert a tuple of characters to a string."
   ]
  },
  {
   "cell_type": "code",
   "execution_count": 160,
   "id": "d86d9f1c-dec4-447b-8ac7-50247eb5302d",
   "metadata": {},
   "outputs": [
    {
     "data": {
      "text/plain": [
       "str"
      ]
     },
     "execution_count": 160,
     "metadata": {},
     "output_type": "execute_result"
    }
   ],
   "source": [
    "t = ('p', 'y', 't', 'h', 'o', 'n')\n",
    "t = ''.join(t)\n",
    "type (t)"
   ]
  },
  {
   "cell_type": "markdown",
   "id": "493bbed7-85a9-464d-a5a9-5bf66159a189",
   "metadata": {},
   "source": [
    "25. Create a tuple from multiple data types."
   ]
  },
  {
   "cell_type": "code",
   "execution_count": 163,
   "id": "fd0455b5-1ca0-4249-86fe-010d8f49828e",
   "metadata": {},
   "outputs": [
    {
     "name": "stdout",
     "output_type": "stream",
     "text": [
      "(1, 'hello', 3.14, True)\n"
     ]
    }
   ],
   "source": [
    "l1 = [1, \"hello\", 3.14, True]\n",
    "t1 = tuple(l1)\n",
    "print (t1)"
   ]
  },
  {
   "cell_type": "markdown",
   "id": "c34dc92f-b561-4a08-ba5e-88ac9d83274e",
   "metadata": {},
   "source": [
    "26. Check if two tuples are identical."
   ]
  },
  {
   "cell_type": "code",
   "execution_count": 179,
   "id": "164bb5b2-8069-40cc-b1a3-8f2292a9ac0b",
   "metadata": {},
   "outputs": [
    {
     "name": "stdout",
     "output_type": "stream",
     "text": [
      "both the tuples are identical\n"
     ]
    }
   ],
   "source": [
    "t1 = (1, 2, 3, 4, 5)\n",
    "t2 = (1, 2, 3, 4, 5)\n",
    "\n",
    "t3 = (i in t1 for i in t2)\n",
    "print ('both the tuples are identical')\n"
   ]
  },
  {
   "cell_type": "markdown",
   "id": "776e229b-5da2-4bb5-bf6d-fb350a4a07ce",
   "metadata": {},
   "source": [
    "27. Sort the elements of a tuple."
   ]
  },
  {
   "cell_type": "code",
   "execution_count": 8,
   "id": "e03f77ee-292f-4617-8ab3-cda067c34ccc",
   "metadata": {},
   "outputs": [
    {
     "name": "stdout",
     "output_type": "stream",
     "text": [
      "(2, 3, 6, 8, 45, 67)\n"
     ]
    }
   ],
   "source": [
    "t1 = (2, 3, 45, 67, 8, 6)\n",
    "t1 = list (t1)\n",
    "t1.sort()\n",
    "print (tuple(t1))"
   ]
  },
  {
   "cell_type": "markdown",
   "id": "49f50c1a-73a7-4d53-99b9-5ddc98dfd619",
   "metadata": {},
   "source": [
    "28. Convert a tuple of integers to a tuple of strings."
   ]
  },
  {
   "cell_type": "code",
   "execution_count": 15,
   "id": "950a7218-6f65-49bf-aa4e-0594c00b4fb3",
   "metadata": {},
   "outputs": [
    {
     "name": "stdout",
     "output_type": "stream",
     "text": [
      "(1, 2, 3, 4, 5, 6)\n"
     ]
    },
    {
     "data": {
      "text/plain": [
       "str"
      ]
     },
     "execution_count": 15,
     "metadata": {},
     "output_type": "execute_result"
    }
   ],
   "source": [
    "t = (1, 2, 3, 4, 5, 6)\n",
    "t = str (t)\n",
    "print (t)\n",
    "type (t)"
   ]
  },
  {
   "cell_type": "markdown",
   "id": "a56d8a05-5ead-4c95-8aa2-9745d22da9c6",
   "metadata": {},
   "source": [
    "29. Convert a tuple of strings to a tuple of integers."
   ]
  },
  {
   "cell_type": "code",
   "execution_count": 22,
   "id": "107e0913-2cbb-4387-b219-07363773f888",
   "metadata": {},
   "outputs": [
    {
     "name": "stdout",
     "output_type": "stream",
     "text": [
      "(2, 3, 45, 67, 8, 6)\n"
     ]
    }
   ],
   "source": [
    "t1 = (2, 3, 45, 67, 8, 6)\n",
    "t1 = tuple(map(int, t1))\n",
    "print(t1)"
   ]
  },
  {
   "cell_type": "markdown",
   "id": "6b354fd1-64b9-45c4-a30a-d603a0acb773",
   "metadata": {},
   "source": [
    "30. Merge two tuples."
   ]
  },
  {
   "cell_type": "code",
   "execution_count": 23,
   "id": "ef8dbbd8-b95f-4482-b602-365a541c9717",
   "metadata": {},
   "outputs": [
    {
     "data": {
      "text/plain": [
       "(1, 2, 3, 6, 7, 8, 9, 10, 11)"
      ]
     },
     "execution_count": 23,
     "metadata": {},
     "output_type": "execute_result"
    }
   ],
   "source": [
    "t1 = (1, 2, 3, 6, 7)\n",
    "t2 = (8, 9, 10, 11)\n",
    "t1+t2"
   ]
  },
  {
   "cell_type": "markdown",
   "id": "55418006-576d-43a5-8259-a0da1223965a",
   "metadata": {},
   "source": [
    "31. Flatten a nested tuple."
   ]
  },
  {
   "cell_type": "code",
   "execution_count": 45,
   "id": "a90d7937-4ba3-4ef1-876c-8749a836ad79",
   "metadata": {},
   "outputs": [
    {
     "name": "stdout",
     "output_type": "stream",
     "text": [
      "(1, 2, 3, 4, 5, 6, 7)\n"
     ]
    }
   ],
   "source": [
    "t1 = ((1,), (2, 3), (4, 5, 6, 7))\n",
    "\n",
    "simple_tuple = (i for sub_tuple in t1 for i in sub_tuple)\n",
    "simple_tuple = tuple(simple_tuple)\n",
    "\n",
    "print(simple_tuple)\n"
   ]
  },
  {
   "cell_type": "markdown",
   "id": "eaadf333-f1d0-4112-9fe1-928ac4b228af",
   "metadata": {},
   "source": [
    "32. Create a tuple of the first 5 prime numbers."
   ]
  },
  {
   "cell_type": "code",
   "execution_count": 57,
   "id": "533cd349-a35a-406f-92c1-42e3222d7cbf",
   "metadata": {},
   "outputs": [
    {
     "name": "stdout",
     "output_type": "stream",
     "text": [
      "(2, 3, 4, 5)\n"
     ]
    }
   ],
   "source": [
    "t = (i for i in range(2, 6) if i % 1 == 0 and i % i == 0)\n",
    "print(tuple(t))"
   ]
  },
  {
   "cell_type": "markdown",
   "id": "d8200bf8-0973-41eb-958f-e88dca0a8f58",
   "metadata": {},
   "source": [
    "33. Check if a tuple is a palindrome."
   ]
  },
  {
   "cell_type": "code",
   "execution_count": 75,
   "id": "1dcb10db-aac1-4be2-ad08-d25eacf8bed4",
   "metadata": {},
   "outputs": [
    {
     "name": "stdout",
     "output_type": "stream",
     "text": [
      "radar\n"
     ]
    }
   ],
   "source": [
    "t = tuple('radar')\n",
    "t2 = reversed (t)\n",
    "t2 = ''.join(t2)\n",
    "print (t2)\n"
   ]
  },
  {
   "cell_type": "markdown",
   "id": "c3cbd579-5f21-4d7c-aa6c-0af4547da244",
   "metadata": {},
   "source": [
    "34. Create a tuple of squares of numbers from 1 to 5."
   ]
  },
  {
   "cell_type": "code",
   "execution_count": 76,
   "id": "516ce3dc-5ef3-4151-9e42-f27c7d953c0d",
   "metadata": {},
   "outputs": [
    {
     "name": "stdout",
     "output_type": "stream",
     "text": [
      "(1, 4, 9, 16, 25)\n"
     ]
    }
   ],
   "source": [
    "t = (i**2 for i in range(1, 6))\n",
    "print(tuple(t))"
   ]
  },
  {
   "cell_type": "markdown",
   "id": "9752f215-fce0-4655-88c6-376f8dafd6a2",
   "metadata": {},
   "source": [
    "35. Filter out all even numbers from a tuple."
   ]
  },
  {
   "cell_type": "code",
   "execution_count": 77,
   "id": "692f5398-efec-43c9-9483-7efcdc017035",
   "metadata": {},
   "outputs": [
    {
     "name": "stdout",
     "output_type": "stream",
     "text": [
      "(2, 4, 6, 8, 10)\n"
     ]
    }
   ],
   "source": [
    "t = (i for i in range(1, 11) if i % 2 == 0)\n",
    "print(tuple(t))"
   ]
  },
  {
   "cell_type": "markdown",
   "id": "34a37b04-6ab9-442c-b0ac-331a21d2c540",
   "metadata": {},
   "source": [
    "36. Multiply all elements in a tuple by 2."
   ]
  },
  {
   "cell_type": "code",
   "execution_count": 78,
   "id": "3eaf0cac-af3b-4385-aec3-df2aa3848677",
   "metadata": {},
   "outputs": [
    {
     "name": "stdout",
     "output_type": "stream",
     "text": [
      "(18, 16, 14, 12, 10, 8)\n"
     ]
    }
   ],
   "source": [
    "t = (9, 8, 7, 6, 5, 4)\n",
    "t1 = (i*2 for i in t)\n",
    "print(tuple(t1))"
   ]
  },
  {
   "cell_type": "markdown",
   "id": "9cf120ac-b792-443b-960f-f1160e39ee8d",
   "metadata": {},
   "source": [
    "37. Create a tuple of random numbers."
   ]
  },
  {
   "cell_type": "code",
   "execution_count": 96,
   "id": "589b29d7-ec83-4c7f-a605-8592fb6c51c8",
   "metadata": {},
   "outputs": [
    {
     "name": "stdout",
     "output_type": "stream",
     "text": [
      "(25, 92, 28, 56, 27)\n"
     ]
    }
   ],
   "source": [
    "import random\n",
    "random_numbers = tuple(random.randint(1, 100) for j in range(5))\n",
    "print(random_numbers)  "
   ]
  },
  {
   "cell_type": "markdown",
   "id": "11a9a942-763d-4da3-94bd-edaae32860e5",
   "metadata": {},
   "source": [
    "38. Check if a tuple is sorted."
   ]
  },
  {
   "cell_type": "code",
   "execution_count": 9,
   "id": "8478c71b-95b4-4722-a1b7-534664e709a2",
   "metadata": {},
   "outputs": [
    {
     "name": "stdout",
     "output_type": "stream",
     "text": [
      "False\n"
     ]
    }
   ],
   "source": [
    "t = (18, 16, 14, 12, 10, 8)\n",
    "t1 = list (t)\n",
    "if t1 is sorted:\n",
    "    print (True)\n",
    "else:\n",
    "    print (False)\n"
   ]
  },
  {
   "cell_type": "markdown",
   "id": "8be08053-de7d-4895-b41c-40a7b1005d9f",
   "metadata": {},
   "source": [
    "39. Rotate a tuple to the left by `n` positions."
   ]
  },
  {
   "cell_type": "code",
   "execution_count": 15,
   "id": "2449b0ed-d113-497f-a71b-5ff9f2edf241",
   "metadata": {},
   "outputs": [
    {
     "name": "stdout",
     "output_type": "stream",
     "text": [
      "the left rotated tuple is (4, 5, 1, 2, 3)\n"
     ]
    }
   ],
   "source": [
    "t = (1, 2, 3, 4, 5)\n",
    "l1 = list (t)\n",
    "l1 = l1[3:] + l1[:3]\n",
    "l2 = tuple (l1)\n",
    "print ('the left rotated tuple is',l2)"
   ]
  },
  {
   "cell_type": "markdown",
   "id": "bb0acce6-02bc-476b-bea1-41bc0b61266d",
   "metadata": {},
   "source": [
    "40. Rotate a tuple to the right by `n` positions."
   ]
  },
  {
   "cell_type": "code",
   "execution_count": 16,
   "id": "e5826c49-0e12-4ece-a556-e3647329bfbf",
   "metadata": {},
   "outputs": [
    {
     "name": "stdout",
     "output_type": "stream",
     "text": [
      "the right rotated tuple is (3, 4, 5, 1, 2)\n"
     ]
    }
   ],
   "source": [
    "t = (1, 2, 3, 4, 5)\n",
    "l1 = list (t)\n",
    "l1 = l1[-3:] + l1[:-3]\n",
    "l2 = tuple (l1)\n",
    "print ('the right rotated tuple is',l2)"
   ]
  },
  {
   "cell_type": "markdown",
   "id": "04139085-4119-41f2-b2ae-ec3a888d6c5d",
   "metadata": {},
   "source": [
    "41. Create a tuple of the first 5 Fibonacci numbers."
   ]
  },
  {
   "cell_type": "code",
   "execution_count": 6,
   "id": "e1cc22ff-b613-4a3a-ae7a-abc49dd6f9e9",
   "metadata": {},
   "outputs": [
    {
     "name": "stdout",
     "output_type": "stream",
     "text": [
      "(0, 1, 1, 2, 3)\n",
      "(0, 1, 1, 2, 3)\n",
      "(0, 1, 1, 2, 3)\n",
      "(0, 1, 1, 2, 3)\n",
      "(0, 1, 1, 2, 3)\n"
     ]
    }
   ],
   "source": [
    "def generate_fibonacci(n):\n",
    "    fibonacci_numbers = [0, 1]\n",
    "    while len(fibonacci_numbers) < n:\n",
    "        next_number = fibonacci_numbers[-1] + fibonacci_numbers[-2]\n",
    "        fibonacci_numbers.append(next_number)\n",
    "    return fibonacci_numbers\n",
    "t = generate_fibonacci(5)\n",
    "\n",
    "for value in t:\n",
    "    print(tuple (t))\n",
    "\n"
   ]
  },
  {
   "cell_type": "markdown",
   "id": "29d7e2f9-f369-410a-af4d-b4689115c7f7",
   "metadata": {},
   "source": [
    "42. Create a tuple from user input."
   ]
  },
  {
   "cell_type": "code",
   "execution_count": 9,
   "id": "07581aef-ebb9-4e06-932d-f92b60bf87a5",
   "metadata": {},
   "outputs": [
    {
     "name": "stdin",
     "output_type": "stream",
     "text": [
      "Enter elements separated by spaces:  1 2 3 4 \n"
     ]
    },
    {
     "name": "stdout",
     "output_type": "stream",
     "text": [
      "User input as tuple: ('1', '2', '3', '4')\n"
     ]
    }
   ],
   "source": [
    "t = input(\"Enter elements separated by spaces: \")\n",
    "elements = t.split()\n",
    "user_tuple = tuple(elements)\n",
    "print(\"User input as tuple:\", user_tuple)"
   ]
  },
  {
   "cell_type": "markdown",
   "id": "f1322e31-db1a-4423-900b-eb519a9fa7ef",
   "metadata": {},
   "source": [
    "43. Swap two elements in a tuple."
   ]
  },
  {
   "cell_type": "code",
   "execution_count": 10,
   "id": "7b343ee1-64f0-42ee-a963-f020b853c801",
   "metadata": {},
   "outputs": [
    {
     "name": "stdout",
     "output_type": "stream",
     "text": [
      "(1, 2, 'giriraj', 4, 5, 3, (3+4j), True)\n"
     ]
    }
   ],
   "source": [
    "t=(1,2,3,4,5,\"giriraj\", 3+4j, True)\n",
    "l1 = list (t)\n",
    "temp = l1[2] \n",
    "l1[2] = l1[5]\n",
    "l1[5] = temp\n",
    "t = tuple (l1)\n",
    "print (t)    \n"
   ]
  },
  {
   "cell_type": "markdown",
   "id": "e534a412-f493-43ac-b52d-a03d71e27458",
   "metadata": {},
   "source": [
    "44. Reverse the elements of a tuple."
   ]
  },
  {
   "cell_type": "code",
   "execution_count": 15,
   "id": "af9f2529-b287-407d-be09-a0afab658129",
   "metadata": {},
   "outputs": [
    {
     "name": "stdout",
     "output_type": "stream",
     "text": [
      "(True, (3+4j), 'giriraj', 5, 4, 3, 2, 1)\n"
     ]
    }
   ],
   "source": [
    "t=(1,2,3,4,5,\"giriraj\", 3+4j, True)\n",
    "t = list(t)\n",
    "t1 = t[::-1]\n",
    "t1 = tuple (t1)\n",
    "print (t1)"
   ]
  },
  {
   "cell_type": "markdown",
   "id": "a76ba7de-a9dd-4804-a073-dfa02932286f",
   "metadata": {},
   "source": [
    "45. Create a tuple of the first `n` powers of 2."
   ]
  },
  {
   "cell_type": "code",
   "execution_count": 13,
   "id": "eb8b4724-bc1d-4d15-9da2-8ad499c882e6",
   "metadata": {},
   "outputs": [
    {
     "name": "stdout",
     "output_type": "stream",
     "text": [
      "(0, 1, 4, 9, 16, 25, 36, 49, 64, 81, 100)\n"
     ]
    }
   ],
   "source": [
    "t1 = tuple (range(0,11))\n",
    "t1 = tuple (i*i for i in t1)\n",
    "print (t1)"
   ]
  },
  {
   "cell_type": "markdown",
   "id": "922c90a2-8ef1-4d16-96d6-4ee5afe272de",
   "metadata": {},
   "source": [
    "46. Find the longest string in a tuple of strings."
   ]
  },
  {
   "cell_type": "code",
   "execution_count": 25,
   "id": "732035bf-b48e-41ed-a6a5-c6e0e566375c",
   "metadata": {},
   "outputs": [
    {
     "name": "stdout",
     "output_type": "stream",
     "text": [
      "this is not the longest string\n",
      "this is not the longest string\n",
      "this is not the longest string\n",
      "the longest string is giriraj\n",
      "this is not the longest string\n"
     ]
    }
   ],
   "source": [
    "t1 = ('my','name','is','giriraj','gupta')\n",
    "for i in t1:\n",
    "    if len(i) == max(len(i) for i in t1):\n",
    "        print('the longest string is',i)\n",
    "    else:\n",
    "        print('this is not the longest string')    \n"
   ]
  },
  {
   "cell_type": "markdown",
   "id": "fb605439-388a-44df-b994-6ef53af8a0bb",
   "metadata": {},
   "source": [
    "47. Find the shortest string in a tuple of strings."
   ]
  },
  {
   "cell_type": "code",
   "execution_count": 27,
   "id": "812840db-d036-4ea8-89b7-b6aea62e889d",
   "metadata": {},
   "outputs": [
    {
     "name": "stdout",
     "output_type": "stream",
     "text": [
      "the shortest string is my\n",
      "this is not the shortest string\n",
      "this is not the shortest string\n",
      "this is not the shortest string\n",
      "this is not the shortest string\n"
     ]
    }
   ],
   "source": [
    "t1 = ('my','name','isnt','giriraj','gupta')\n",
    "for i in t1:\n",
    "    if len(i) == min(len(i) for i in t1):\n",
    "        print('the shortest string is',i)\n",
    "    else:\n",
    "        print('this is not the shortest string') "
   ]
  },
  {
   "cell_type": "markdown",
   "id": "aaab4f1e-28e2-4b7e-8e9b-b179f9f1057d",
   "metadata": {},
   "source": [
    "48. Create a tuple of the first `n` triangular numbers."
   ]
  },
  {
   "cell_type": "code",
   "execution_count": 28,
   "id": "ffd8c166-d50d-47e6-9181-c4e306ecbba2",
   "metadata": {},
   "outputs": [
    {
     "name": "stdout",
     "output_type": "stream",
     "text": [
      "1 3 6 10 15 "
     ]
    }
   ],
   "source": [
    "def triangular_series( n ):\n",
    "    j = 1\n",
    "    k = 1\n",
    "     \n",
    "    for i in range(1, n + 1):\n",
    "        print(k, end = ' ')\n",
    "        j = j + 1 \n",
    "        k = k + j \n",
    "         \n",
    "\n",
    "n = 5\n",
    "triangular_series(n)\n",
    " "
   ]
  },
  {
   "cell_type": "markdown",
   "id": "bfecb52c-77ed-46e7-9921-db6e3903f1f9",
   "metadata": {},
   "source": [
    "49. Check if a tuple contains another tuple as a subsequence."
   ]
  },
  {
   "cell_type": "code",
   "execution_count": 33,
   "id": "72c83a5a-dea9-4a6d-b9a9-02380ccc1e8c",
   "metadata": {},
   "outputs": [
    {
     "name": "stdout",
     "output_type": "stream",
     "text": [
      "True\n"
     ]
    }
   ],
   "source": [
    "test_tup1 = (10, 4, 5, 6)\n",
    "test_tup2 = (5, 10)\n",
    " \n",
    "result = set(test_tup2) <= set(test_tup1)\n",
    " \n",
    "print(str(result))"
   ]
  },
  {
   "cell_type": "markdown",
   "id": "47cb4ec5-6275-48b4-9036-e2e97c47aad6",
   "metadata": {},
   "source": [
    "50. Create a tuple of alternating 1s and 0s of length `n`."
   ]
  },
  {
   "cell_type": "code",
   "execution_count": 45,
   "id": "cf4dfdb1-7c3b-4723-bd3a-968f4ccf4b96",
   "metadata": {},
   "outputs": [
    {
     "name": "stdout",
     "output_type": "stream",
     "text": [
      "(1, 0, 1, 0, 1, 0, 1, 0, 1, 0)\n"
     ]
    }
   ],
   "source": [
    "t = tuple([1, 0] * 5)\n",
    "print (t)\n",
    "    \n",
    "        "
   ]
  },
  {
   "cell_type": "markdown",
   "id": "f7f4c822-ac51-4a42-8ca6-d38119c01caf",
   "metadata": {},
   "source": [
    "Set Based Practice Problem :"
   ]
  },
  {
   "cell_type": "markdown",
   "id": "3ed57a47-ef85-432c-987c-3f8e97710fa3",
   "metadata": {},
   "source": [
    "Create a set with integers from 1 to 5."
   ]
  },
  {
   "cell_type": "code",
   "execution_count": 47,
   "id": "2d7009df-1c40-4bac-ab0b-b9cd7c118591",
   "metadata": {},
   "outputs": [
    {
     "data": {
      "text/plain": [
       "{1, 2, 3, 4, 5}"
      ]
     },
     "execution_count": 47,
     "metadata": {},
     "output_type": "execute_result"
    }
   ],
   "source": [
    "set (range (1,6))"
   ]
  },
  {
   "cell_type": "markdown",
   "id": "85dee43e-5481-405b-98c4-4c9dc00c2421",
   "metadata": {},
   "source": [
    "2. Add an element to a set."
   ]
  },
  {
   "cell_type": "code",
   "execution_count": 50,
   "id": "5deb5642-c9eb-4331-9f94-c0080c207157",
   "metadata": {},
   "outputs": [],
   "source": [
    "s = {1, 2, 3, 4, 5, 6}\n",
    "s.add(7)"
   ]
  },
  {
   "cell_type": "code",
   "execution_count": 51,
   "id": "15037e31-2dd4-478a-8817-821766f6e84d",
   "metadata": {},
   "outputs": [
    {
     "data": {
      "text/plain": [
       "{1, 2, 3, 4, 5, 6, 7}"
      ]
     },
     "execution_count": 51,
     "metadata": {},
     "output_type": "execute_result"
    }
   ],
   "source": [
    "s"
   ]
  },
  {
   "cell_type": "markdown",
   "id": "20a03c21-5b45-49f0-9a53-cea772d52826",
   "metadata": {},
   "source": [
    "3. Remove an element from a set."
   ]
  },
  {
   "cell_type": "code",
   "execution_count": 54,
   "id": "7c07ec5f-ca83-4927-b261-adb82bdce584",
   "metadata": {},
   "outputs": [],
   "source": [
    "s.remove(3)"
   ]
  },
  {
   "cell_type": "code",
   "execution_count": 55,
   "id": "66ed6116-1b9f-4cfc-9ab2-e8086db921f0",
   "metadata": {},
   "outputs": [
    {
     "data": {
      "text/plain": [
       "{1, 2, 4, 5, 6, 7}"
      ]
     },
     "execution_count": 55,
     "metadata": {},
     "output_type": "execute_result"
    }
   ],
   "source": [
    "s"
   ]
  },
  {
   "cell_type": "markdown",
   "id": "425781f8-519e-45a2-9d76-97efec9e4db3",
   "metadata": {},
   "source": [
    "4. Check if an element exists in a set."
   ]
  },
  {
   "cell_type": "code",
   "execution_count": 73,
   "id": "6bda585d-2b07-4f40-a96a-3c2203969c4a",
   "metadata": {},
   "outputs": [
    {
     "name": "stdout",
     "output_type": "stream",
     "text": [
      "yes the elemnt exist\n"
     ]
    }
   ],
   "source": [
    "s = {1, 2, 3, 4, 5, 6}\n",
    "if 4 in s:\n",
    "    print ('yes the elemnt exist')\n",
    "else :\n",
    "    print (False)"
   ]
  },
  {
   "cell_type": "markdown",
   "id": "00965e98-a00e-49ae-8aaf-ffd42683b0ac",
   "metadata": {},
   "source": [
    "5. Find the length of a set without using the `len()` function."
   ]
  },
  {
   "cell_type": "code",
   "execution_count": 75,
   "id": "4ff8f3bb-cb09-46de-8a78-65b96c173506",
   "metadata": {},
   "outputs": [
    {
     "data": {
      "text/plain": [
       "6"
      ]
     },
     "execution_count": 75,
     "metadata": {},
     "output_type": "execute_result"
    }
   ],
   "source": [
    "max (s)"
   ]
  },
  {
   "cell_type": "markdown",
   "id": "f36f51e8-007b-45c8-a678-b7497c64c51f",
   "metadata": {},
   "source": [
    "6. Clear all elements from a set."
   ]
  },
  {
   "cell_type": "code",
   "execution_count": 77,
   "id": "03a8550f-723d-43f7-b16e-fc5f80476f2f",
   "metadata": {},
   "outputs": [],
   "source": [
    "s1 = {7, 8, 9, 10, 11, 12}\n",
    "s1.clear()"
   ]
  },
  {
   "cell_type": "code",
   "execution_count": 78,
   "id": "7ab7b7ff-3c4c-4fd9-8203-2b819773d980",
   "metadata": {},
   "outputs": [
    {
     "data": {
      "text/plain": [
       "set()"
      ]
     },
     "execution_count": 78,
     "metadata": {},
     "output_type": "execute_result"
    }
   ],
   "source": [
    "s1"
   ]
  },
  {
   "cell_type": "markdown",
   "id": "ec1cf520-1a17-4a66-83fb-dac61a08cff6",
   "metadata": {},
   "source": [
    "7. Create a set of even numbers from 1 to 10."
   ]
  },
  {
   "cell_type": "code",
   "execution_count": 86,
   "id": "76239a0f-e158-48b4-88d3-8e40790ed497",
   "metadata": {},
   "outputs": [
    {
     "data": {
      "text/plain": [
       "{0, 2, 4, 6, 8}"
      ]
     },
     "execution_count": 86,
     "metadata": {},
     "output_type": "execute_result"
    }
   ],
   "source": [
    "set (i for i in range (10) if i % 2 == 0)"
   ]
  },
  {
   "cell_type": "markdown",
   "id": "c5dcd87b-60b2-4747-96ff-98cbc9ba2927",
   "metadata": {},
   "source": [
    "8. Create a set of odd numbers from 1 to 10."
   ]
  },
  {
   "cell_type": "code",
   "execution_count": 87,
   "id": "16d3775b-ceab-4561-b2be-194831807983",
   "metadata": {},
   "outputs": [
    {
     "data": {
      "text/plain": [
       "{1, 3, 5, 7, 9}"
      ]
     },
     "execution_count": 87,
     "metadata": {},
     "output_type": "execute_result"
    }
   ],
   "source": [
    "set (range (1,11,2))"
   ]
  },
  {
   "cell_type": "markdown",
   "id": "50ec28f9-2fb0-4ad0-923f-ec0652d13b84",
   "metadata": {},
   "source": [
    "9. Find the union of two sets."
   ]
  },
  {
   "cell_type": "code",
   "execution_count": 88,
   "id": "7a14a493-deae-4a4d-b3ed-df08e8ff4098",
   "metadata": {},
   "outputs": [
    {
     "name": "stdout",
     "output_type": "stream",
     "text": [
      "{1, 2, 3, 4, 5, 6, 7}\n"
     ]
    }
   ],
   "source": [
    "set1 = {1, 2, 3, 4, 5}\n",
    "set2 = {3, 4, 5, 6, 7}\n",
    "set3 = set1.union(set2)\n",
    "print(set3)"
   ]
  },
  {
   "cell_type": "markdown",
   "id": "d101d86d-8aae-4cbf-99fb-4c61725880b0",
   "metadata": {},
   "source": [
    "10. Find the intersection of two sets."
   ]
  },
  {
   "cell_type": "code",
   "execution_count": 91,
   "id": "1f846c09-cdee-42bb-861c-3dc354e43802",
   "metadata": {},
   "outputs": [
    {
     "name": "stdout",
     "output_type": "stream",
     "text": [
      "{3, 4, 5}\n"
     ]
    }
   ],
   "source": [
    "set1 = {1, 2, 3, 4, 5}\n",
    "set2 = {3, 4, 5, 6, 7}\n",
    "set3 = set1.intersection(set2)\n",
    "print(set3)"
   ]
  },
  {
   "cell_type": "markdown",
   "id": "e421e085-e0dd-4245-97d7-239128ee3b73",
   "metadata": {},
   "source": [
    "11. Find the difference between two sets."
   ]
  },
  {
   "cell_type": "code",
   "execution_count": 92,
   "id": "d217d60b-ede9-4dee-93f0-4730690178c7",
   "metadata": {},
   "outputs": [
    {
     "name": "stdout",
     "output_type": "stream",
     "text": [
      "{6, 7}\n"
     ]
    }
   ],
   "source": [
    "set1 = {1, 2, 3, 4, 5}\n",
    "set2 = {3, 4, 5, 6, 7}\n",
    "set3 = set2-set1\n",
    "print(set3)"
   ]
  },
  {
   "cell_type": "markdown",
   "id": "f636f85d-87f8-4ac1-8922-a7ae2e69094b",
   "metadata": {},
   "source": [
    "12. Check if a set is a subset of another set."
   ]
  },
  {
   "cell_type": "code",
   "execution_count": 93,
   "id": "92fc93f5-d2be-4f5c-ace1-7866451a5a3b",
   "metadata": {},
   "outputs": [
    {
     "name": "stdout",
     "output_type": "stream",
     "text": [
      "False\n"
     ]
    }
   ],
   "source": [
    "et1 = {1, 2, 3, 4, 5}\n",
    "set2 = {3, 4, 5, 6, 7}\n",
    "print(set1.issubset(set2))"
   ]
  },
  {
   "cell_type": "markdown",
   "id": "ea9f3f3a-bdee-4bea-b749-7ed546766363",
   "metadata": {},
   "source": [
    "13. Check if a set is a superset of another set."
   ]
  },
  {
   "cell_type": "code",
   "execution_count": 96,
   "id": "f4e7161e-76c2-4447-826e-cbe9a1cd55ad",
   "metadata": {},
   "outputs": [
    {
     "name": "stdout",
     "output_type": "stream",
     "text": [
      "False\n"
     ]
    }
   ],
   "source": [
    "set1 = {1, 2, 3, 4, 5}\n",
    "set2 = {3, 4, 5, 6, 7}\n",
    "print(set1.issuperset(set2))"
   ]
  },
  {
   "cell_type": "markdown",
   "id": "927e0275-d5d3-486b-ba40-2dbc791ab50b",
   "metadata": {},
   "source": [
    "14. Create a set from a list."
   ]
  },
  {
   "cell_type": "code",
   "execution_count": 97,
   "id": "d693f424-ff06-4f30-935b-adb0d40f71a8",
   "metadata": {},
   "outputs": [],
   "source": [
    "l1 = [1, 2, 3, 4, 5]\n",
    "s1 = set (l1)"
   ]
  },
  {
   "cell_type": "code",
   "execution_count": 98,
   "id": "e15c43cc-48bf-434e-a249-6b3aac27bdbf",
   "metadata": {},
   "outputs": [
    {
     "data": {
      "text/plain": [
       "{1, 2, 3, 4, 5}"
      ]
     },
     "execution_count": 98,
     "metadata": {},
     "output_type": "execute_result"
    }
   ],
   "source": [
    "s1"
   ]
  },
  {
   "cell_type": "markdown",
   "id": "52a8c087-cd23-4498-98d5-0d0c00e65e00",
   "metadata": {},
   "source": [
    "15. Convert a set to a list."
   ]
  },
  {
   "cell_type": "code",
   "execution_count": 99,
   "id": "ed8762a5-f482-4960-8174-e9718f980453",
   "metadata": {},
   "outputs": [
    {
     "data": {
      "text/plain": [
       "[1, 2, 3, 4, 5]"
      ]
     },
     "execution_count": 99,
     "metadata": {},
     "output_type": "execute_result"
    }
   ],
   "source": [
    "list (s1)"
   ]
  },
  {
   "cell_type": "markdown",
   "id": "d8552d0d-b9f6-440f-8d3b-bf11ae2548ca",
   "metadata": {},
   "source": [
    "16. Remove a random element from a set."
   ]
  },
  {
   "cell_type": "code",
   "execution_count": 102,
   "id": "4b3d13a8-f48b-41c8-905f-2913a0cb30ff",
   "metadata": {},
   "outputs": [
    {
     "name": "stdout",
     "output_type": "stream",
     "text": [
      "{2, 3, 4, 5}\n"
     ]
    }
   ],
   "source": [
    "import random\n",
    "set1 = {1, 2, 3, 4, 5}\n",
    "set1.remove(random.choice(list(set1)))\n",
    "print(set1)\n"
   ]
  },
  {
   "cell_type": "markdown",
   "id": "f2249848-4d06-4fc8-9ea3-fda05376dccf",
   "metadata": {},
   "source": [
    "17. Pop an element from a set."
   ]
  },
  {
   "cell_type": "code",
   "execution_count": 105,
   "id": "ad497727-0aa9-4b9e-8b2e-f6785e5b8d7a",
   "metadata": {},
   "outputs": [
    {
     "data": {
      "text/plain": [
       "{2, 3, 4, 5}"
      ]
     },
     "execution_count": 105,
     "metadata": {},
     "output_type": "execute_result"
    }
   ],
   "source": [
    "set1"
   ]
  },
  {
   "cell_type": "code",
   "execution_count": 107,
   "id": "f0add3d5-81ca-4a96-8bc5-92afa7bcc324",
   "metadata": {},
   "outputs": [
    {
     "data": {
      "text/plain": [
       "2"
      ]
     },
     "execution_count": 107,
     "metadata": {},
     "output_type": "execute_result"
    }
   ],
   "source": [
    "set1.pop()"
   ]
  },
  {
   "cell_type": "markdown",
   "id": "283073bc-b5f0-4e36-a133-38c8653a3842",
   "metadata": {},
   "source": [
    "18. Check if two sets have no elements in common."
   ]
  },
  {
   "cell_type": "code",
   "execution_count": 109,
   "id": "806f5851-ecaf-4f65-90f0-966f24da8626",
   "metadata": {},
   "outputs": [
    {
     "data": {
      "text/plain": [
       "False"
      ]
     },
     "execution_count": 109,
     "metadata": {},
     "output_type": "execute_result"
    }
   ],
   "source": [
    "set1 = {1, 2, 3, 4}\n",
    "set2 = {4, 5, 6}\n",
    "set1.isdisjoint(set2)"
   ]
  },
  {
   "cell_type": "markdown",
   "id": "dc763684-03b9-4023-86a9-8366356f3a65",
   "metadata": {},
   "source": [
    "19. Find the symmetric difference between two sets."
   ]
  },
  {
   "cell_type": "code",
   "execution_count": 2,
   "id": "241422b0-a0b2-4f4d-b130-7660f9cc54f7",
   "metadata": {},
   "outputs": [
    {
     "name": "stdout",
     "output_type": "stream",
     "text": [
      "{1, 2, 3}\n"
     ]
    }
   ],
   "source": [
    "set1 = {1, 2, 3, 4}\n",
    "set2 = {4, 5, 6}\n",
    "set3 = set1 - set2\n",
    "print (set3)"
   ]
  },
  {
   "cell_type": "markdown",
   "id": "9e8a7fc0-c17b-4f98-b70d-c7ed44cfaf93",
   "metadata": {},
   "source": [
    "20. Update a set with elements from another set."
   ]
  },
  {
   "cell_type": "code",
   "execution_count": 5,
   "id": "78ed9950-0901-4847-b4e7-85e1dfa8afa0",
   "metadata": {},
   "outputs": [
    {
     "name": "stdout",
     "output_type": "stream",
     "text": [
      "{1, 2, 3, 4, 5, 6}\n"
     ]
    }
   ],
   "source": [
    "set1 = {1, 2, 3, 4}\n",
    "set2 = {4, 5, 6}\n",
    "set1.update(set2)\n",
    "print (set1)"
   ]
  },
  {
   "cell_type": "markdown",
   "id": "aaf6693d-de76-496c-b7ee-ee5d6703c842",
   "metadata": {},
   "source": [
    "21. Create a set of the first 5 prime numbers."
   ]
  },
  {
   "cell_type": "code",
   "execution_count": 6,
   "id": "8927a98a-0585-43ca-bf04-4c8017c90d2f",
   "metadata": {},
   "outputs": [
    {
     "data": {
      "text/plain": [
       "{1, 3, 5}"
      ]
     },
     "execution_count": 6,
     "metadata": {},
     "output_type": "execute_result"
    }
   ],
   "source": [
    "set (range(1,6,2))"
   ]
  },
  {
   "cell_type": "markdown",
   "id": "c1e6a368-b12b-439e-9677-80a376b957ae",
   "metadata": {},
   "source": [
    "22. Check if two sets are identical."
   ]
  },
  {
   "cell_type": "code",
   "execution_count": 23,
   "id": "a18f01f8-dc91-45e8-a05a-9a1695089402",
   "metadata": {},
   "outputs": [
    {
     "name": "stdout",
     "output_type": "stream",
     "text": [
      "True\n"
     ]
    }
   ],
   "source": [
    "s1 = {1, 2, 3, 4}\n",
    "s2 = {1, 2, 3, 4}\n",
    "\n",
    "if s1 == s2:\n",
    "    print (True)\n",
    "else:\n",
    "    print (False)"
   ]
  },
  {
   "cell_type": "markdown",
   "id": "d89005f6-fbf1-42c6-9283-60501c10e04b",
   "metadata": {},
   "source": [
    "23. Create a frozen set."
   ]
  },
  {
   "cell_type": "code",
   "execution_count": 27,
   "id": "0f89859f-408f-4c70-b7c6-73bcb9dfaa97",
   "metadata": {},
   "outputs": [
    {
     "name": "stdout",
     "output_type": "stream",
     "text": [
      "frozenset({1, 3, 5, 7, 9})\n"
     ]
    }
   ],
   "source": [
    "prime_numbers = frozenset(range(1,11,2))\n",
    "print (prime_numbers)"
   ]
  },
  {
   "cell_type": "markdown",
   "id": "808a6d07-b589-4d79-9143-a52d586afecf",
   "metadata": {},
   "source": [
    "24. Check if a set is disjoint with another set."
   ]
  },
  {
   "cell_type": "code",
   "execution_count": 29,
   "id": "33f88aed-3c70-4b9b-950e-ae755025a7c5",
   "metadata": {},
   "outputs": [
    {
     "name": "stdout",
     "output_type": "stream",
     "text": [
      "s1 and s2 both are not disjoint set\n"
     ]
    }
   ],
   "source": [
    "s1 = {1, 2, 3, 4}\n",
    "s2 = {5, 6, 7, 8}\n",
    "if s1 == s2:\n",
    "    print ('s1 and s2 both are not disjoint set')\n",
    "else:\n",
    "    print ('s1 and s2 both are not disjoint set')"
   ]
  },
  {
   "cell_type": "markdown",
   "id": "135d4e3f-111b-4a75-95ac-86221a22220a",
   "metadata": {},
   "source": [
    "25. Create a set of squares of numbers from 1 to 5."
   ]
  },
  {
   "cell_type": "code",
   "execution_count": 34,
   "id": "5dd1bfc3-680e-4553-9ad8-d06ddf877248",
   "metadata": {},
   "outputs": [
    {
     "name": "stdout",
     "output_type": "stream",
     "text": [
      "{1, 4, 9, 16, 25}\n"
     ]
    }
   ],
   "source": [
    "s1 = set ( i**2 for i in range (1,6))\n",
    "print (s1)"
   ]
  },
  {
   "cell_type": "markdown",
   "id": "4f00da81-8ba4-471e-9f5b-4d486974ba59",
   "metadata": {},
   "source": [
    "26. Filter out all even numbers from a set."
   ]
  },
  {
   "cell_type": "code",
   "execution_count": 43,
   "id": "760c1bd0-75f3-4c88-b714-4626a94b8079",
   "metadata": {},
   "outputs": [
    {
     "name": "stdout",
     "output_type": "stream",
     "text": [
      "{2, 4, 6, 8, 10, 12, 14, 16, 18}\n"
     ]
    }
   ],
   "source": [
    "s1 = set(range(1, 20))\n",
    "s2 = {i for i in s1 if i % 2 == 0}\n",
    "print(s2)\n"
   ]
  },
  {
   "cell_type": "markdown",
   "id": "fc30ac38-b5b4-45c2-b80b-00a3a0459317",
   "metadata": {},
   "source": [
    "27. Multiply all elements in a set by 2."
   ]
  },
  {
   "cell_type": "code",
   "execution_count": 46,
   "id": "300d3aea-e3be-40b8-8bd6-01bd8444da29",
   "metadata": {},
   "outputs": [
    {
     "name": "stdout",
     "output_type": "stream",
     "text": [
      "{2, 4, 6, 8, 10, 12, 14, 16, 18, 20, 22, 24, 26, 28, 30, 32, 34, 36, 38}\n"
     ]
    }
   ],
   "source": [
    "s1 = set(range(1, 20))\n",
    "s1 = set (i*2 for i in s1)\n",
    "print (s1)"
   ]
  },
  {
   "cell_type": "markdown",
   "id": "47ff12a1-28b9-46e5-bedc-5e43a5b4b035",
   "metadata": {},
   "source": [
    "28. Create a set of random numbers."
   ]
  },
  {
   "cell_type": "code",
   "execution_count": 49,
   "id": "b9d7b1de-0339-4422-91c4-256fca8c5a58",
   "metadata": {},
   "outputs": [
    {
     "name": "stdout",
     "output_type": "stream",
     "text": [
      "{66, 5, 70, 7, 43, 62, 24, 93, 94, 31}\n"
     ]
    }
   ],
   "source": [
    "import random\n",
    "\n",
    "random_numbers = random.sample(range(1, 100), 10)\n",
    "\n",
    "print(set (random_numbers))"
   ]
  },
  {
   "cell_type": "markdown",
   "id": "e900a44c-418f-4cfd-b7ce-aae0b10f468a",
   "metadata": {},
   "source": [
    "29. Check if a set is empty."
   ]
  },
  {
   "cell_type": "code",
   "execution_count": 51,
   "id": "dddbd663-c4ea-4c33-bbef-f8a204eeb91f",
   "metadata": {},
   "outputs": [
    {
     "name": "stdout",
     "output_type": "stream",
     "text": [
      "this set is not empty\n"
     ]
    }
   ],
   "source": [
    "s1 = set(range(1, 20))\n",
    "empty_set = {}\n",
    "if s1==empty_set:\n",
    "    print ('yes the set s1 is empty')\n",
    "else:\n",
    "    print ('this set is not empty')"
   ]
  },
  {
   "cell_type": "markdown",
   "id": "cb4352d3-e166-42d1-aef3-7cb16a516c34",
   "metadata": {},
   "source": [
    "30. Create a nested set (hint: use frozenset)."
   ]
  },
  {
   "cell_type": "code",
   "execution_count": 53,
   "id": "fe2bee43-cc2a-423a-b480-53a30df1890e",
   "metadata": {},
   "outputs": [
    {
     "name": "stdout",
     "output_type": "stream",
     "text": [
      "frozenset({frozenset({3}), frozenset({2}), frozenset({11}), frozenset({5}), frozenset({7})})\n"
     ]
    }
   ],
   "source": [
    "prime_numbers = frozenset({\n",
    "    frozenset({2}),\n",
    "    frozenset({3}),\n",
    "    frozenset({5}),\n",
    "    frozenset({7}),\n",
    "    frozenset({11})\n",
    "})\n",
    "\n",
    "print (prime_numbers )"
   ]
  },
  {
   "cell_type": "markdown",
   "id": "1097b447-ae14-43bd-893a-32b6a332923f",
   "metadata": {},
   "source": [
    "31. Remove an element from a set using the discard method."
   ]
  },
  {
   "cell_type": "code",
   "execution_count": 55,
   "id": "4897928c-93b4-420a-8de1-02b34ac194be",
   "metadata": {},
   "outputs": [
    {
     "name": "stdout",
     "output_type": "stream",
     "text": [
      "{1, 2, 4, 5}\n"
     ]
    }
   ],
   "source": [
    "set = {1, 2, 3, 4, 5}\n",
    "set.discard(3)\n",
    "print (set)\n"
   ]
  },
  {
   "cell_type": "markdown",
   "id": "53b59d54-1179-424e-a097-c69baad25f3c",
   "metadata": {},
   "source": [
    "32. Compare two sets."
   ]
  },
  {
   "cell_type": "code",
   "execution_count": 58,
   "id": "6fc823d2-6d9a-403a-afb6-423e84125314",
   "metadata": {},
   "outputs": [
    {
     "name": "stdout",
     "output_type": "stream",
     "text": [
      "both the sets are not equal\n"
     ]
    }
   ],
   "source": [
    "s1 = {3, 4, 5, 6, 7}\n",
    "s2 = {8, 9, 10, 11, 12}\n",
    "if s1 == s2:\n",
    "    print ('both the sets are equal')\n",
    "else:\n",
    "    s1 =! s2:\n",
    "    print ('both the sets are not equal')\n"
   ]
  },
  {
   "cell_type": "markdown",
   "id": "c8186096-5f7e-414a-a8da-9b87d313abdb",
   "metadata": {},
   "source": [
    "33. Create a set from a string."
   ]
  },
  {
   "cell_type": "code",
   "execution_count": 1,
   "id": "732d5a21-6b59-466f-ac65-10e4a2d2ddc1",
   "metadata": {},
   "outputs": [
    {
     "name": "stdout",
     "output_type": "stream",
     "text": [
      "{'gupta', 'name', 'my', 'giriraj', 'is'}\n"
     ]
    }
   ],
   "source": [
    "string_name = 'my name is giriraj gupta'\n",
    "l1 = string_name.split()\n",
    "l2 = set(l1)\n",
    "print (l2)"
   ]
  },
  {
   "cell_type": "markdown",
   "id": "374d8e38-774b-4152-baaa-7af18d5e36f8",
   "metadata": {},
   "source": [
    "34. Convert a set of strings to a set of integers."
   ]
  },
  {
   "cell_type": "code",
   "execution_count": 7,
   "id": "24f68d94-4e40-400d-9dfb-dda16f32154a",
   "metadata": {},
   "outputs": [
    {
     "name": "stdout",
     "output_type": "stream",
     "text": [
      "{1, 2, 3, 4, 5}\n"
     ]
    }
   ],
   "source": [
    "s1 = {\"1\", \"2\", \"3\", \"4\", \"5\"}\n",
    "s2 = set(int(i) for i in s1)\n",
    "print (s2)\n"
   ]
  },
  {
   "cell_type": "markdown",
   "id": "942124c4-4ed4-4037-ab1d-6dde66fb7eec",
   "metadata": {},
   "source": [
    "35. Convert a set of integers to a set of strings."
   ]
  },
  {
   "cell_type": "code",
   "execution_count": 8,
   "id": "ba4c420a-63b3-4224-8086-ba7551674218",
   "metadata": {},
   "outputs": [
    {
     "name": "stdout",
     "output_type": "stream",
     "text": [
      "{'2', '1', '4', '3', '5'}\n"
     ]
    }
   ],
   "source": [
    "s1 = {1, 2, 3, 4, 5}\n",
    "s2 = set(str(i) for i in s1)\n",
    "print (s2)"
   ]
  },
  {
   "cell_type": "markdown",
   "id": "b656231a-40db-4f3e-8270-bbb058b6fad0",
   "metadata": {},
   "source": [
    "36. Create a set from a tuple."
   ]
  },
  {
   "cell_type": "code",
   "execution_count": 1,
   "id": "4bfac685-7a24-4cb0-a32d-89ac16835a73",
   "metadata": {},
   "outputs": [
    {
     "name": "stdout",
     "output_type": "stream",
     "text": [
      "{1, 2, 3, 4, 5}\n"
     ]
    }
   ],
   "source": [
    "t1 = (1, 2, 3, 4, 5)\n",
    "s1 = set (t1)\n",
    "print (s1)"
   ]
  },
  {
   "cell_type": "markdown",
   "id": "4416ced8-b6fb-43ea-b820-9ceac4efa912",
   "metadata": {},
   "source": [
    "37. Convert a set to a tuple."
   ]
  },
  {
   "cell_type": "code",
   "execution_count": 1,
   "id": "17ed73f6-90a4-4240-984d-68e95d83f5e9",
   "metadata": {},
   "outputs": [
    {
     "name": "stdout",
     "output_type": "stream",
     "text": [
      "(1, 2, 3, 4, 5)\n"
     ]
    }
   ],
   "source": [
    "s1 = {1, 2, 3, 4, 5}\n",
    "t1 = tuple (s1)\n",
    "print (t1)"
   ]
  },
  {
   "cell_type": "markdown",
   "id": "0189ba3e-5253-4afb-8e9e-ee89c260265b",
   "metadata": {},
   "source": [
    "38. Find the maximum value in a set."
   ]
  },
  {
   "cell_type": "code",
   "execution_count": 6,
   "id": "9141772a-8230-4728-8d9f-ea03922d50a6",
   "metadata": {},
   "outputs": [
    {
     "name": "stdout",
     "output_type": "stream",
     "text": [
      "98\n"
     ]
    }
   ],
   "source": [
    "s1 = {45, 67, 98, 34, 10}\n",
    "s1 = list(s1)\n",
    "s1.sort()\n",
    "print(s1[-1])"
   ]
  },
  {
   "cell_type": "markdown",
   "id": "945958de-457d-474a-8f6d-2376c98a3006",
   "metadata": {},
   "source": [
    "39. Find the minimum value in a set."
   ]
  },
  {
   "cell_type": "code",
   "execution_count": 13,
   "id": "d28ef091-f55b-4976-84ea-c53f8745a4f7",
   "metadata": {},
   "outputs": [
    {
     "name": "stdout",
     "output_type": "stream",
     "text": [
      "10\n"
     ]
    }
   ],
   "source": [
    "s1 = {45, 67, 98, 34, 10}\n",
    "s1 = list(s1)\n",
    "s1.sort()\n",
    "print(s1[0])"
   ]
  },
  {
   "cell_type": "markdown",
   "id": "90b01b7d-6423-4fb5-bd4b-daf0aa962db0",
   "metadata": {},
   "source": [
    "40. Create a set from user input."
   ]
  },
  {
   "cell_type": "code",
   "execution_count": 3,
   "id": "cd245b1b-ec04-476c-8618-62c7774e60e3",
   "metadata": {},
   "outputs": [
    {
     "name": "stdin",
     "output_type": "stream",
     "text": [
      "Enter number of elements:  4\n",
      "Enter element:  1234\n",
      "Enter element:  1234\n",
      "Enter element:  1234\n",
      "Enter element:  1234\n"
     ]
    },
    {
     "name": "stdout",
     "output_type": "stream",
     "text": [
      "{1234}\n"
     ]
    }
   ],
   "source": [
    "my_set = set()\n",
    "for i in range(int(input(\"Enter number of elements: \"))):\n",
    "  my_set.add(int(input(\"Enter element: \")))\n",
    "\n",
    "print(my_set)"
   ]
  },
  {
   "cell_type": "markdown",
   "id": "373fcceb-fa0a-43b6-a8d7-145e27c1e193",
   "metadata": {},
   "source": [
    "41. Check if the intersection of two sets is empty"
   ]
  },
  {
   "cell_type": "code",
   "execution_count": 4,
   "id": "a3d446fd-a102-4392-83eb-517aa88bda5e",
   "metadata": {},
   "outputs": [
    {
     "name": "stdout",
     "output_type": "stream",
     "text": [
      "Intersection of two sets is not empty\n"
     ]
    }
   ],
   "source": [
    "set1 = {1, 2, 3, 4, 5}\n",
    "set2 = {3, 4, 5, 6, 7}\n",
    "set3 = set1.intersection(set2)\n",
    "if len(set3) == 0:\n",
    "    print('Intersection of two sets is empty')\n",
    "else:\n",
    "    print('Intersection of two sets is not empty')"
   ]
  },
  {
   "cell_type": "markdown",
   "id": "b00b2e6a-c127-44cf-a08e-bc0f71d33a89",
   "metadata": {},
   "source": [
    " 42. Create a set of the first 5 Fibonacci numbers."
   ]
  },
  {
   "cell_type": "code",
   "execution_count": 6,
   "id": "5064fe06-18e1-4faa-884f-257c3386f024",
   "metadata": {},
   "outputs": [
    {
     "name": "stdout",
     "output_type": "stream",
     "text": [
      "{0, 1, 2, 3, 5}\n"
     ]
    }
   ],
   "source": [
    "fib = [0, 1]\n",
    "for i in range(2, 6):\n",
    "  fib.append(fib[i - 1] + fib[i - 2])\n",
    "fib_set = set(fib)\n",
    "print(fib_set)"
   ]
  },
  {
   "cell_type": "markdown",
   "id": "8722bafc-5469-436b-b5f5-5c109840c187",
   "metadata": {},
   "source": [
    "43. Remove duplicates from a list using sets."
   ]
  },
  {
   "cell_type": "code",
   "execution_count": 7,
   "id": "3758b0c0-251e-40fb-923c-a3ac67f81cf1",
   "metadata": {},
   "outputs": [
    {
     "name": "stdout",
     "output_type": "stream",
     "text": [
      "{1, 2, 3, 4, 5}\n"
     ]
    }
   ],
   "source": [
    "l1 = [1, 2, 3, 4, 5, 1, 2, 3]\n",
    "l2 = set(l1)\n",
    "print(l2)"
   ]
  },
  {
   "cell_type": "markdown",
   "id": "d4f82d3d-e3a5-4d98-aac8-9b15491c61b9",
   "metadata": {},
   "source": [
    " 44. Check if two sets have the same elements, regardless of their count"
   ]
  },
  {
   "cell_type": "code",
   "execution_count": 9,
   "id": "febd0cb0-3669-436f-9375-31a3327b0ecf",
   "metadata": {},
   "outputs": [
    {
     "data": {
      "text/plain": [
       "True"
      ]
     },
     "execution_count": 9,
     "metadata": {},
     "output_type": "execute_result"
    }
   ],
   "source": [
    "t1 = {1, 2, 3}\n",
    "t2 = {3, 2, 1}\n",
    "\n",
    "set(t1) == set(t2)"
   ]
  },
  {
   "cell_type": "markdown",
   "id": "b7b27a75-3531-4207-ba1f-c867eb026bd9",
   "metadata": {},
   "source": [
    "45. Create a set of the first `n` powers of 2."
   ]
  },
  {
   "cell_type": "code",
   "execution_count": 17,
   "id": "2900733d-02b9-4ea3-852b-243ac3e52545",
   "metadata": {},
   "outputs": [
    {
     "data": {
      "text/plain": [
       "{1, 2, 4, 8, 16, 32}"
      ]
     },
     "execution_count": 17,
     "metadata": {},
     "output_type": "execute_result"
    }
   ],
   "source": [
    "set([2**i for i in range(6)])"
   ]
  },
  {
   "cell_type": "markdown",
   "id": "28d3651a-c88d-475f-8f4d-c32d141ef50e",
   "metadata": {},
   "source": [
    " 46. Find the common elements between a set and a list."
   ]
  },
  {
   "cell_type": "code",
   "execution_count": 23,
   "id": "3fec486f-c0b7-40d2-a46c-9ca2b8134ee8",
   "metadata": {},
   "outputs": [
    {
     "data": {
      "text/plain": [
       "{1, 3, 5}"
      ]
     },
     "execution_count": 23,
     "metadata": {},
     "output_type": "execute_result"
    }
   ],
   "source": [
    "set1 = {1 , 2, 3, 4, 5, 6}\n",
    "list1 = [1, 3, 5, 7, 9]\n",
    "t1 = set (list1)\n",
    "t1.intersection(set1)"
   ]
  },
  {
   "cell_type": "markdown",
   "id": "5bbe6135-ff13-4567-9a17-7b8a03c8ae3a",
   "metadata": {},
   "source": [
    " 47. Create a set of the first `n` triangular numbers"
   ]
  },
  {
   "cell_type": "code",
   "execution_count": 25,
   "id": "f24f2d1d-ab14-4517-a0c1-90601e5fa7b0",
   "metadata": {},
   "outputs": [
    {
     "data": {
      "text/plain": [
       "{0, 1, 3, 6, 10, 15, 21, 28, 36, 45}"
      ]
     },
     "execution_count": 25,
     "metadata": {},
     "output_type": "execute_result"
    }
   ],
   "source": [
    "set([sum(range(i + 1)) for i in range(10)])"
   ]
  },
  {
   "cell_type": "markdown",
   "id": "edafbdb9-2190-46e2-be25-f4aaaca99299",
   "metadata": {},
   "source": [
    " 48. Check if a set contains another set as a subset."
   ]
  },
  {
   "cell_type": "code",
   "execution_count": 26,
   "id": "857c31f1-27f8-40c9-9469-9ab4b9d9e686",
   "metadata": {},
   "outputs": [
    {
     "data": {
      "text/plain": [
       "False"
      ]
     },
     "execution_count": 26,
     "metadata": {},
     "output_type": "execute_result"
    }
   ],
   "source": [
    "set1 = {1, 2, 3, 4, 5, 6, 7}\n",
    "set2 = {4, 5, 6, 7, 8, 9}\n",
    "set1.issubset(set2)"
   ]
  },
  {
   "cell_type": "markdown",
   "id": "38baaf67-c6e5-4a4c-9158-f737ef000eb6",
   "metadata": {},
   "source": [
    " 49. Create a set of alternating 1s and 0s of length `n`"
   ]
  },
  {
   "cell_type": "code",
   "execution_count": null,
   "id": "1c72bab9-1017-4210-a807-f281d262b71d",
   "metadata": {},
   "outputs": [],
   "source": [
    "pip install itertools"
   ]
  },
  {
   "cell_type": "code",
   "execution_count": null,
   "id": "b7e5b1c7-c834-471d-9466-336688212996",
   "metadata": {},
   "outputs": [],
   "source": [
    "import itertools"
   ]
  },
  {
   "cell_type": "code",
   "execution_count": null,
   "id": "9cb24259-5219-4ca4-a28b-2e9d38d4b662",
   "metadata": {},
   "outputs": [],
   "source": [
    "import itertools\n",
    "s1 = set (itertools.cycle([0, 1]))[:10]"
   ]
  },
  {
   "cell_type": "code",
   "execution_count": null,
   "id": "546a3fca-5fbd-4b79-b39c-49902f790851",
   "metadata": {},
   "outputs": [],
   "source": [
    "print (s1)"
   ]
  },
  {
   "cell_type": "markdown",
   "id": "e2fcdeb6-f852-48ea-a4af-11966b42b842",
   "metadata": {},
   "source": [
    " 50. Merge multiple sets into one."
   ]
  },
  {
   "cell_type": "code",
   "execution_count": null,
   "id": "656def4f-4284-4c88-b484-8610217dcb8a",
   "metadata": {},
   "outputs": [],
   "source": [
    "set1 = {1, 2, 3}\n",
    "set2 = {4, 5, 6}\n",
    "set3 = {7, 8, 9}\n",
    "\n",
    "merged_set = collections.ChainMap(set1, set2, set3)"
   ]
  },
  {
   "cell_type": "code",
   "execution_count": null,
   "id": "25e5e630-d99a-4900-b1f9-64b6be0b8b8d",
   "metadata": {},
   "outputs": [],
   "source": [
    "print (merged_set)"
   ]
  },
  {
   "cell_type": "code",
   "execution_count": null,
   "id": "d2a9489b-ac0c-4704-b634-380dd0ab2d0c",
   "metadata": {},
   "outputs": [],
   "source": []
  }
 ],
 "metadata": {
  "kernelspec": {
   "display_name": "Python 3 (ipykernel)",
   "language": "python",
   "name": "python3"
  },
  "language_info": {
   "codemirror_mode": {
    "name": "ipython",
    "version": 3
   },
   "file_extension": ".py",
   "mimetype": "text/x-python",
   "name": "python",
   "nbconvert_exporter": "python",
   "pygments_lexer": "ipython3",
   "version": "3.10.8"
  }
 },
 "nbformat": 4,
 "nbformat_minor": 5
}
